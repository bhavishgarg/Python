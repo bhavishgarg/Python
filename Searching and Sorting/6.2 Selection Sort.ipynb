{
 "cells": [
  {
   "cell_type": "markdown",
   "metadata": {},
   "source": [
    "### Selection Sort"
   ]
  },
  {
   "cell_type": "markdown",
   "metadata": {},
   "source": [
    "The list is divided into two partitions: \n",
    "\n",
    "The first list contains sorted items, while the second list contains unsorted items.\n",
    "\n",
    "By default, the sorted list is empty, and the unsorted list contains all the elements.\n",
    "\n",
    "The unsorted list is then scanned for the minimum value(if ASC), which is then placed in the sorted list. \n",
    "\n",
    "This process is repeated until all the values have been compared and sorted."
   ]
  },
  {
   "cell_type": "code",
   "execution_count": 8,
   "metadata": {},
   "outputs": [
    {
     "name": "stdout",
     "output_type": "stream",
     "text": [
      "[0, 4, 15, 24, 32]\n"
     ]
    }
   ],
   "source": [
    "def Selection_Sort(arr):\n",
    "    \n",
    "    for i in range(len(arr)):\n",
    "      \n",
    "    # Find the inedx of the minimum element in remaining unsorted array\n",
    "        min_index = i\n",
    "        for j in range(i+1, len(arr)):\n",
    "            if arr[j] < arr[min_index]:   # Change the sign for DESC order\n",
    "                min_index = j\n",
    "              \n",
    "    # Swap the found minimum element with the first element      \n",
    "        arr[i], arr[min_index] = arr[min_index], arr[i]\n",
    "\n",
    "arr=[24,15,32,0,4]\n",
    "Selection_Sort(arr)\n",
    "print(arr)"
   ]
  },
  {
   "cell_type": "markdown",
   "metadata": {},
   "source": [
    "#### ALGORITHM:\n",
    "\n",
    "Set the first element as minimum.\n",
    "\n",
    "Compare this minimum element with rest of the elements one by one and set Min_Index to that\n",
    "\n",
    "Place minimum in front of the unsorted list"
   ]
  },
  {
   "cell_type": "code",
   "execution_count": null,
   "metadata": {},
   "outputs": [],
   "source": []
  }
 ],
 "metadata": {
  "kernelspec": {
   "display_name": "Python 3",
   "language": "python",
   "name": "python3"
  },
  "language_info": {
   "codemirror_mode": {
    "name": "ipython",
    "version": 3
   },
   "file_extension": ".py",
   "mimetype": "text/x-python",
   "name": "python",
   "nbconvert_exporter": "python",
   "pygments_lexer": "ipython3",
   "version": "3.8.6"
  }
 },
 "nbformat": 4,
 "nbformat_minor": 2
}
