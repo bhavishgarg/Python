{
 "cells": [
  {
   "cell_type": "markdown",
   "metadata": {},
   "source": [
    " #####  Works similarly as we sort cards in our hand in a card game."
   ]
  },
  {
   "cell_type": "markdown",
   "metadata": {},
   "source": [
    "The array is virtually split into a sorted and an unsorted part.\n",
    "\n",
    "Values from the unsorted part are picked and placed at the correct position in the sorted part."
   ]
  },
  {
   "cell_type": "code",
   "execution_count": 3,
   "metadata": {},
   "outputs": [
    {
     "name": "stdout",
     "output_type": "stream",
     "text": [
      "[5, 6, 11, 12, 13]\n"
     ]
    }
   ],
   "source": [
    "def insertionSort(arr):\n",
    " \n",
    "    # Traverse through 1 to len(arr)\n",
    "    for i in range(1, len(arr)):\n",
    " \n",
    "        key = arr[i]\n",
    " \n",
    "        # Move elements that are greater than key, to one position ahead of their current position\n",
    "        j = i-1\n",
    "        while j >= 0 and key < arr[j] :\n",
    "                arr[j + 1] = arr[j]\n",
    "                j -= 1\n",
    "                \n",
    "        # Place key at it's correct position\n",
    "        arr[j + 1] = key\n",
    "\n",
    "        \n",
    "arr = [12, 11, 13, 5, 6]\n",
    "insertionSort(arr)\n",
    "print(arr)"
   ]
  },
  {
   "cell_type": "markdown",
   "metadata": {},
   "source": [
    "#### Algorithm \n",
    "To sort an array of size n in ascending order: \n",
    "\n",
    "Iterate from arr[1] to arr[n] over the array. \n",
    "\n",
    "Compare the current element (key) to its predecessor. \n",
    "\n",
    "If the key element is smaller than its predecessor, compare it to the elements before.\n",
    "Move the greater elements one position up to make space for the swapped element."
   ]
  }
 ],
 "metadata": {
  "kernelspec": {
   "display_name": "Python 3",
   "language": "python",
   "name": "python3"
  },
  "language_info": {
   "codemirror_mode": {
    "name": "ipython",
    "version": 3
   },
   "file_extension": ".py",
   "mimetype": "text/x-python",
   "name": "python",
   "nbconvert_exporter": "python",
   "pygments_lexer": "ipython3",
   "version": "3.8.6"
  }
 },
 "nbformat": 4,
 "nbformat_minor": 4
}
