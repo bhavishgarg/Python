{
 "cells": [
  {
   "cell_type": "markdown",
   "metadata": {},
   "source": [
    "### Binary Search using Recursion:\n",
    "1000 can reached 10 in just 10 steps. You don't need to compare all the 1000 elements"
   ]
  },
  {
   "cell_type": "code",
   "execution_count": 2,
   "metadata": {},
   "outputs": [],
   "source": [
    "def binary_search(a, x, si, ei):   # Array , element to be searched , StartingIndex , EndingIndex\n",
    "    if si > ei:\n",
    "        return -1\n",
    "    \n",
    "    mid = (si + ei)//2\n",
    "    if a[mid] == x:\n",
    "        return mid\n",
    "    elif a[mid] > x:\n",
    "        return binary_search(a, x, si, mid-1)\n",
    "    else:\n",
    "        return binary_search(a, x, mid+1, ei)"
   ]
  },
  {
   "cell_type": "code",
   "execution_count": 3,
   "metadata": {},
   "outputs": [
    {
     "data": {
      "text/plain": [
       "1"
      ]
     },
     "execution_count": 3,
     "metadata": {},
     "output_type": "execute_result"
    }
   ],
   "source": [
    "binary_search([1,3,5,7,9,11,13,15, 17, 19], 3, 0, 9)"
   ]
  },
  {
   "cell_type": "markdown",
   "metadata": {},
   "source": [
    "### Binary Search\n",
    "Given a sorted(in ascending order) integer array/list(ARR) of size N and an element X.\n",
    "\n",
    "A function to search this element in the given input array/list using 'Binary Search'.\n",
    "\n",
    "Return the index of the element in the input array/list.\n",
    "\n",
    "In case the element is not present in the array/list, then return -1."
   ]
  },
  {
   "cell_type": "code",
   "execution_count": 13,
   "metadata": {},
   "outputs": [
    {
     "name": "stdout",
     "output_type": "stream",
     "text": [
      "84\n",
      "4\n"
     ]
    }
   ],
   "source": [
    "def binary_search(arr, element):\n",
    "    start = 0\n",
    "    end = len(arr) - 1\n",
    "    while (start <= end):\n",
    "        mid = (start + end) // 2\n",
    "        if (arr[mid] == element):\n",
    "            return mid\n",
    "        elif (arr[mid] < element):\n",
    "            start = mid + 1\n",
    "        else:\n",
    "            end = mid - 1\n",
    "    return -1\n",
    "\n",
    "arr = [1,32,48,56,84,136]\n",
    "key = int(input())\n",
    "index = binary_search(arr, key)\n",
    "print(index)\n",
    "    "
   ]
  }
 ],
 "metadata": {
  "kernelspec": {
   "display_name": "Python 3",
   "language": "python",
   "name": "python3"
  },
  "language_info": {
   "codemirror_mode": {
    "name": "ipython",
    "version": 3
   },
   "file_extension": ".py",
   "mimetype": "text/x-python",
   "name": "python",
   "nbconvert_exporter": "python",
   "pygments_lexer": "ipython3",
   "version": "3.8.6"
  }
 },
 "nbformat": 4,
 "nbformat_minor": 2
}
