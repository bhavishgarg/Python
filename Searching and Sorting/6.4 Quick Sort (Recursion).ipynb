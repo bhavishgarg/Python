{
 "cells": [
  {
   "cell_type": "markdown",
   "metadata": {},
   "source": [
    "#### Quicksort is a sorting algorithm based on the divide and conquer approach"
   ]
  },
  {
   "cell_type": "code",
   "execution_count": 1,
   "metadata": {},
   "outputs": [],
   "source": [
    "def partition(a, si, ei):\n",
    "    pivot = a[si]\n",
    "    \n",
    "    #find number of elements smaller than pivot    \n",
    "    c = 0  \n",
    "    for i in range(si, ei+1):\n",
    "        if a[i] < pivot:\n",
    "            c = c + 1\n",
    "    \n",
    "    # put pivot at it's right position\n",
    "    a[si+c], a[si] = a[si], a[si+c]\n",
    "    pivot_index = si + c\n",
    "    \n",
    "    # smaller elements to left,larger elements to right\n",
    "    i = si\n",
    "    j = ei\n",
    "    while i < j:\n",
    "        if a[i] < pivot:\n",
    "            i = i + 1\n",
    "        elif a[j] >= pivot:\n",
    "            j = j - 1\n",
    "        else:\n",
    "            a[i], a[j] = a[j], a[i]  # when i and j are at wrong place,SWAP\n",
    "            i = i + 1\n",
    "            j = j - 1\n",
    "        \n",
    "    return pivot_index"
   ]
  },
  {
   "cell_type": "code",
   "execution_count": 2,
   "metadata": {},
   "outputs": [],
   "source": [
    "def quick_sort(a, si, ei):\n",
    "    if si >= ei:\n",
    "        return \n",
    "    \n",
    "    pivot_index = partition(a, si, ei)\n",
    "    quick_sort(a, si, pivot_index-1)  # on left side\n",
    "    quick_sort(a, pivot_index+1, ei)  # on right side"
   ]
  },
  {
   "cell_type": "code",
   "execution_count": 3,
   "metadata": {},
   "outputs": [
    {
     "name": "stdout",
     "output_type": "stream",
     "text": [
      "[1, 2, 3, 4, 5, 7, 8, 9, 10]\n"
     ]
    }
   ],
   "source": [
    "a = [10,9,8,7,1,3,5,4,2]\n",
    "quick_sort(a, 0, len(a)-1)  # si,ei\n",
    "print(a)"
   ]
  },
  {
   "cell_type": "markdown",
   "metadata": {},
   "source": [
    "#### ALGORITHM\n",
    "\n",
    "An array is divided into subarrays by selecting a pivot element\n",
    "\n",
    "The pivot element should be positioned in such a way that elements less than pivot are kept on the left side and elements greater than pivot are on the right side of the pivot.\n",
    " \n",
    "The left and right subarrays are also divided using the same approach. This process continues until each subarray contains a single element.\n",
    "\n",
    "elements are already sorted."
   ]
  },
  {
   "cell_type": "code",
   "execution_count": null,
   "metadata": {},
   "outputs": [],
   "source": []
  }
 ],
 "metadata": {
  "kernelspec": {
   "display_name": "Python 3",
   "language": "python",
   "name": "python3"
  },
  "language_info": {
   "codemirror_mode": {
    "name": "ipython",
    "version": 3
   },
   "file_extension": ".py",
   "mimetype": "text/x-python",
   "name": "python",
   "nbconvert_exporter": "python",
   "pygments_lexer": "ipython3",
   "version": "3.8.6"
  }
 },
 "nbformat": 4,
 "nbformat_minor": 4
}
