{
 "cells": [
  {
   "cell_type": "markdown",
   "metadata": {},
   "source": [
    "For user it is a stack but operations/functions will be implemend by us.So we'll be using array to implemend a stack!\n",
    "\n",
    "##### FOR USER ####                  #### FOR US ####\n",
    "\n",
    "|    |                          a private array\n",
    "| 30 |       push(10)           [10 , 20 , 30]\n",
    "| 20 | ----> push(20)            \n",
    "|_10_|       push(30)"
   ]
  },
  {
   "cell_type": "markdown",
   "metadata": {},
   "source": [
    "###### All are O(1) operations\n",
    "1) push()    --> l.append()      function of an array\n",
    "\n",
    "2) pop()     --> l.pop()\n",
    "\n",
    "3) top()     --> l[len(l) -1]    last element of an array\n",
    "\n",
    "4) size()    --> len(l)          size of array\n",
    "\n",
    "5) isEmpty() --> len(l)==0    array is empty"
   ]
  },
  {
   "cell_type": "code",
   "execution_count": 1,
   "metadata": {},
   "outputs": [],
   "source": [
    "### Stack Using Array\n",
    "### This part is hidden from the User\n",
    "class Stack:\n",
    "    def __init__(self):\n",
    "        self.__data = []      #Private array: not to give access to the user # data is array name by default initialized []\n",
    "    \n",
    "    def push(self, item):\n",
    "        self.__data.append(item)\n",
    "        \n",
    "    def pop(self):\n",
    "        if self.isEmpty():\n",
    "            print(\"Stack is Empty!\")\n",
    "            return\n",
    "        return self.__data.pop()\n",
    "    \n",
    "    def top(self):\n",
    "        if self.isEmpty():\n",
    "            print(\"Stack is Empty!\")\n",
    "            return\n",
    "        return self.__data[len(self.__data) - 1]\n",
    "    \n",
    "    def size(self):\n",
    "        return len(self.__data)\n",
    "        \n",
    "    def isEmpty(self):\n",
    "        return self.size() == 0"
   ]
  },
  {
   "cell_type": "code",
   "execution_count": 2,
   "metadata": {},
   "outputs": [
    {
     "name": "stdout",
     "output_type": "stream",
     "text": [
      "size of stack is 3\n",
      "14\n",
      "13\n",
      "12\n",
      "Stack is Empty!\n"
     ]
    }
   ],
   "source": [
    "#### This part is visible to the user\n",
    "## Actually we need to write the above program in another file and here in the below code we can import the Stack class using import statement\n",
    "\n",
    "# from StackUsingArray import Stack\n",
    "\n",
    "s = Stack()\n",
    "\n",
    "s.push(12)\n",
    "s.push(13)\n",
    "s.push(14)\n",
    "print('size of stack is' ,s.size())\n",
    "\n",
    "while s.isEmpty() is False:\n",
    "    print(s.pop())\n",
    "s.top()        "
   ]
  },
  {
   "cell_type": "code",
   "execution_count": null,
   "metadata": {},
   "outputs": [],
   "source": []
  }
 ],
 "metadata": {
  "kernelspec": {
   "display_name": "Python 3",
   "language": "python",
   "name": "python3"
  },
  "language_info": {
   "codemirror_mode": {
    "name": "ipython",
    "version": 3
   },
   "file_extension": ".py",
   "mimetype": "text/x-python",
   "name": "python",
   "nbconvert_exporter": "python",
   "pygments_lexer": "ipython3",
   "version": "3.8.6"
  }
 },
 "nbformat": 4,
 "nbformat_minor": 2
}
