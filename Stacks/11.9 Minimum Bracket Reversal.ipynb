{
 "cells": [
  {
   "cell_type": "markdown",
   "metadata": {},
   "source": [
    "Given a string expression which consists only ‘}’ and ‘{‘. The expression may not be balanced. \n",
    "\n",
    "You need to find the minimum number of bracket reversals which are required to make the expression balanced.\n",
    "\n",
    "Return -1 if the given expression can't be balanced."
   ]
  },
  {
   "cell_type": "markdown",
   "metadata": {},
   "source": [
    "1) Remove Balanced part of the expression\n",
    "\n",
    "a) Iterate through the expression \n",
    "b) if { : push \n",
    "c) if } and top=={ : pop\n",
    "d) if } and top!={ : push"
   ]
  },
  {
   "cell_type": "code",
   "execution_count": 2,
   "metadata": {},
   "outputs": [
    {
     "name": "stdout",
     "output_type": "stream",
     "text": [
      "}{{}}{{{\n",
      "3\n"
     ]
    }
   ],
   "source": [
    "def countBracketReversals(string):\n",
    "    if(len(string) == 0):\n",
    "        return 0\n",
    "    if(len(string)%2 != 0):    # len of string is odd i.e., odd number of brackets,can never be balanced\n",
    "        return -1\n",
    "    \n",
    "    s = []\n",
    "    for char in string:\n",
    "        if char == '{':\n",
    "            s.append(char)\n",
    "        else:\n",
    "            if(len(s) > 0 and s[-1] == '{'): # opening bracket hai tabhi pop hoga otherwise not.Eg-Could be closing bracket\n",
    "                s.pop()\n",
    "            else:\n",
    "                s.append(char)  # if we are getting a closing bracket and our stack is empty,push it in the stack \n",
    "                                # This will be part of our unbalanced tree\n",
    "                \n",
    "    # till this,balanced part has been removed.Now we'll pop a pair of brackets and make it balanced.\n",
    "    count = 0\n",
    "    while(len(s) != 0):\n",
    "        c1 = s.pop()\n",
    "        c2 = s.pop()\n",
    "        if c1==c2:\n",
    "            count+=1\n",
    "        else:\n",
    "            count+=2  # ceil method can also be used here\n",
    "    return count\n",
    "string = input()\n",
    "ans = countBracketReversals(string)\n",
    "print(ans)\n"
   ]
  },
  {
   "cell_type": "code",
   "execution_count": null,
   "metadata": {},
   "outputs": [],
   "source": []
  }
 ],
 "metadata": {
  "kernelspec": {
   "display_name": "Python 3",
   "language": "python",
   "name": "python3"
  },
  "language_info": {
   "codemirror_mode": {
    "name": "ipython",
    "version": 3
   },
   "file_extension": ".py",
   "mimetype": "text/x-python",
   "name": "python",
   "nbconvert_exporter": "python",
   "pygments_lexer": "ipython3",
   "version": "3.8.6"
  }
 },
 "nbformat": 4,
 "nbformat_minor": 2
}
