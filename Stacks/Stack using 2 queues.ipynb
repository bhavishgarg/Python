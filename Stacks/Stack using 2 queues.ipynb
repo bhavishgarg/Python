{
 "cells": [
  {
   "cell_type": "markdown",
   "metadata": {},
   "source": [
    "###### Method 1 (By making push operation costly)\n",
    "This method makes sure that newly entered element is always at the front of ‘q1’, so that pop operation just dequeues from ‘q1’. ‘q2’ is used to put every new element at front of ‘q1’.\n",
    "\n",
    "push(s, x) operation’s step are described below:\n",
    "\n",
    "1) Enqueue x to q2\n",
    "\n",
    "2) One by one dequeue everything from q1 and enqueue to q2.\n",
    "\n",
    "3) Swap the names of q1 and q2\n",
    "\n",
    "pop(s) operation’s function are described below:\n",
    "\n",
    "1) Dequeue an item from q1 and return it."
   ]
  },
  {
   "cell_type": "code",
   "execution_count": 3,
   "metadata": {},
   "outputs": [],
   "source": [
    "import queue\n",
    "\n",
    "class StackUsingQueues:\n",
    "\n",
    "    def __init__(self):\n",
    "        # Two inbuilt queues \n",
    "        self.q1 = queue.Queue()\n",
    "        self.q2 = queue.Queue()\n",
    "        self.curr_size = 0\n",
    "\n",
    "    def push(self, data):\n",
    "\n",
    "        self.curr_size += 1\n",
    "        # Push x first in empty q2\n",
    "        self.q2.put(data)    \n",
    "\n",
    "        # Push all the remaining elements in q1 to q2. \n",
    "        while (not self.q1.empty()):\n",
    "            self.q2.put(self.q1.get())\n",
    "            \n",
    "        # swap the names of two queues\n",
    "        self.q = self.q1\n",
    "        self.q1 = self.q2\n",
    "        self.q2 = self.q\n",
    "\n",
    "    def pop(self):\n",
    "        # Dequeue an item from q1 and return it\n",
    "        if (self.q1.empty()):\n",
    "            return\n",
    "        x = self.q1.get()\n",
    "        self.curr_size -= 1\n",
    "        return x\n",
    "\n",
    "    def top(self):\n",
    "        if (self.q1.empty()):\n",
    "            return -1\n",
    "        return self.q1.queue[0]\n",
    "\n",
    "    def getSize(self):\n",
    "        return self.curr_size"
   ]
  },
  {
   "cell_type": "code",
   "execution_count": 4,
   "metadata": {},
   "outputs": [
    {
     "name": "stdout",
     "output_type": "stream",
     "text": [
      "4\n",
      "3\n",
      "2\n",
      "1\n",
      "-1\n"
     ]
    }
   ],
   "source": [
    "s = StackUsingQueues()\n",
    "s.push(1)\n",
    "s.push(2)\n",
    "s.push(3)\n",
    "s.push(4)\n",
    "\n",
    "while s.getSize()!=0:\n",
    "    print(s.pop())\n",
    "print(s.top())"
   ]
  },
  {
   "cell_type": "markdown",
   "metadata": {},
   "source": [
    "##### Method 2 (By making pop operation costly)\n",
    "\n",
    "In push operation, the new element is always enqueued to q1. In pop() operation, if q2 is empty then all the elements except the last, are moved to q2. Finally the last element is dequeued from q1 and returned.\n",
    "\n",
    "push(s, x) operation:\n",
    "1) Enqueue x to q1 (assuming size of q1 is unlimited).\n",
    "\n",
    "pop(s) operation:\n",
    "1) One by one dequeue everything except the last element from q1 and enqueue to q2.\n",
    "\n",
    "2) Dequeue the last item of q1, the dequeued item is result, store it.\n",
    "\n",
    "3) Swap the names of q1 and q2\n",
    "\n",
    "4) Return the item stored in step 2."
   ]
  }
 ],
 "metadata": {
  "kernelspec": {
   "display_name": "Python 3",
   "language": "python",
   "name": "python3"
  },
  "language_info": {
   "codemirror_mode": {
    "name": "ipython",
    "version": 3
   },
   "file_extension": ".py",
   "mimetype": "text/x-python",
   "name": "python",
   "nbconvert_exporter": "python",
   "pygments_lexer": "ipython3",
   "version": "3.8.6"
  }
 },
 "nbformat": 4,
 "nbformat_minor": 4
}
