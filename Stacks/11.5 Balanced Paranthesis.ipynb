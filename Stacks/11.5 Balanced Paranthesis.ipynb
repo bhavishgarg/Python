{
 "cells": [
  {
   "cell_type": "markdown",
   "metadata": {},
   "source": [
    "String is balanced or not? Characters are not imp,order of brackets are important.\n",
    "\n",
    "LIFO - Whoever comes in last should go out first\n",
    "\n",
    "For an example, { () () }  is a balanced paranthesis\n",
    "\n",
    "                {(a+b) + (c+d) +e}"
   ]
  },
  {
   "cell_type": "markdown",
   "metadata": {},
   "source": [
    "### Using array / list: (By Coding Ninjas)\n",
    "Since we are using arrays-\n",
    "\n",
    "1) .append() for push\n",
    "\n",
    "2) array[-1] for top\n",
    "\n",
    "3) not array for isempty"
   ]
  },
  {
   "cell_type": "code",
   "execution_count": 1,
   "metadata": {},
   "outputs": [
    {
     "name": "stdout",
     "output_type": "stream",
     "text": [
      "(e+(a+b)+f)\n",
      "True\n"
     ]
    }
   ],
   "source": [
    "def isBalanced(string):\n",
    "    \n",
    "    s = []\n",
    "    for char in string:\n",
    "        if char in '({[':\n",
    "            s.append(char)            # since we are using arrays\n",
    "        elif char == ')':\n",
    "            if (not s or s[-1] != '('):   # s[-1] since we are using arrays  # note: order of statements is important\n",
    "                return False\n",
    "            s.pop()                 # else pop that from the stack\n",
    "        elif char == ']':\n",
    "            if (not s or s[-1] != '['):\n",
    "                return False\n",
    "            s.pop()\n",
    "        elif char == '}':\n",
    "            if (not s or s[-1] != '{'):\n",
    "                return False\n",
    "            s.pop()\n",
    "            \n",
    "    if (not s):                # if stack is empty    \n",
    "        return True\n",
    "    return False\n",
    "\n",
    "string = input()\n",
    "ans = isBalanced(string)\n",
    "print(ans)"
   ]
  },
  {
   "cell_type": "markdown",
   "metadata": {},
   "source": [
    "### Writing Stack class:\n",
    "\n",
    "pop , push , top  , isempty"
   ]
  },
  {
   "cell_type": "code",
   "execution_count": 3,
   "metadata": {},
   "outputs": [],
   "source": [
    "### Stack Using Array\n",
    "### This part is hidden from the User\n",
    "class Stack:\n",
    "    def __init__(self):\n",
    "        self.__data = []\n",
    "    \n",
    "    def push(self, item):\n",
    "        self.__data.append(item)\n",
    "        \n",
    "    def pop(self):\n",
    "        if self.isEmpty():\n",
    "            print(\"Stack is Empty!\")\n",
    "            return\n",
    "        return self.__data.pop()\n",
    "    \n",
    "    def top(self):\n",
    "        if self.isEmpty():\n",
    "            print(\"Stack is Empty!\")\n",
    "            return\n",
    "        return self.__data[len(self.__data) - 1]\n",
    "    \n",
    "    def size(self):\n",
    "        return len(self.__data)\n",
    "        \n",
    "    def isEmpty(self):\n",
    "        return self.size() == 0"
   ]
  },
  {
   "cell_type": "code",
   "execution_count": 4,
   "metadata": {},
   "outputs": [
    {
     "name": "stdout",
     "output_type": "stream",
     "text": [
      "\n",
      "true\n"
     ]
    }
   ],
   "source": [
    "#from StackUsingArray import Stack\n",
    "def checkBalanced(str):           \n",
    "    for i in str:\n",
    "        if i == '(' or i == '{' or i == '[':\n",
    "            s.push(i)\n",
    "            \n",
    "        elif i =='}':\n",
    "            if s.top() != '{':\n",
    "                return False\n",
    "            s.pop()\n",
    "        elif i == ']':\n",
    "            if s.top() != '[':\n",
    "                return False\n",
    "            s.pop()\n",
    "        elif i == ')':\n",
    "            if s.top() != '(':\n",
    "                return False\n",
    "            s.pop()\n",
    "            \n",
    "            \n",
    "    if s.isEmpty():         #using isempty() function in class Stack\n",
    "        return True\n",
    "    else:\n",
    "        return False\n",
    "    \n",
    "s= Stack()\n",
    "\n",
    "str = input()\n",
    "#str = \"{x + y ( a * b )  }\"\n",
    "if checkBalanced(str):\n",
    "    print('true')\n",
    "else:\n",
    "    print('false')"
   ]
  },
  {
   "cell_type": "markdown",
   "metadata": {},
   "source": [
    "### Using inbuilt stack from queue module\n",
    "\n",
    "Since we are using queue.LifoQueue() we'll be using \n",
    "\n",
    "1) .put() \n",
    "\n",
    "2) .get()\n",
    "\n",
    "3) .empty()"
   ]
  },
  {
   "cell_type": "code",
   "execution_count": 32,
   "metadata": {},
   "outputs": [
    {
     "name": "stdout",
     "output_type": "stream",
     "text": [
      "[a + (b+c) - {d / [f*e] } ] \n",
      "true\n"
     ]
    }
   ],
   "source": [
    "import queue\n",
    "\n",
    "s = queue.LifoQueue()\n",
    "\n",
    "def isBalanced(str):\n",
    "    \n",
    "    for i in str:       \n",
    "        if i in \"{([\":\n",
    "            s.put(i)       \n",
    "        \n",
    "        elif i == '}':\n",
    "            if (s.empty() or s.queue[-1] != '{'):\n",
    "                return False\n",
    "            s.get()\n",
    "            \n",
    "        elif i == ')':\n",
    "            if (s.empty() or s.queue[-1] != '('):\n",
    "                return False\n",
    "            s.get()\n",
    "            \n",
    "        elif i == ']':\n",
    "            if (s.empty() or s.queue[-1] != '['):\n",
    "                return False\n",
    "            s.get()\n",
    "        \n",
    "         \n",
    "    if s.empty():\n",
    "        return True\n",
    "    return False\n",
    "    \n",
    "    \n",
    "    \n",
    "\n",
    "exp=input()\n",
    "if isBalanced(exp):\n",
    "    print('true')\n",
    "else:\n",
    "    print('false')\n",
    "\n"
   ]
  }
 ],
 "metadata": {
  "kernelspec": {
   "display_name": "Python 3",
   "language": "python",
   "name": "python3"
  },
  "language_info": {
   "codemirror_mode": {
    "name": "ipython",
    "version": 3
   },
   "file_extension": ".py",
   "mimetype": "text/x-python",
   "name": "python",
   "nbconvert_exporter": "python",
   "pygments_lexer": "ipython3",
   "version": "3.8.6"
  }
 },
 "nbformat": 4,
 "nbformat_minor": 2
}
