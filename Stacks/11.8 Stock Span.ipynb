{
 "cells": [
  {
   "cell_type": "markdown",
   "metadata": {},
   "source": [
    "The span Si of the stock’s price on a given day i is defined as the maximum number of CONSECUTIVE DAYS just before the given day, for which the price of the stock on the current day is less than or equal to its price on the given day. \n",
    "For example, if an array of 7 days prices is given as {100, 80, 60, 70, 60, 75, 85}, then the span values for corresponding 7 days are {1, 1, 1, 2, 1, 4, 6} "
   ]
  },
  {
   "cell_type": "markdown",
   "metadata": {},
   "source": [
    "##### A Linear-Time Complexity Method "
   ]
  },
  {
   "cell_type": "markdown",
   "metadata": {},
   "source": [
    "Using Stacks,check geeksforgeeks. Couldn't understand it abhi."
   ]
  },
  {
   "cell_type": "markdown",
   "metadata": {},
   "source": [
    "##### A Simple but inefficient method "
   ]
  },
  {
   "cell_type": "code",
   "execution_count": 4,
   "metadata": {},
   "outputs": [
    {
     "name": "stdout",
     "output_type": "stream",
     "text": [
      "1 1 2 4 5 1 "
     ]
    }
   ],
   "source": [
    "# Python program for brute force method to calculate stock span values\n",
    "\n",
    "# Fills list S[] with span values\n",
    "def calculateSpan(price, n, S):\n",
    "\t\n",
    "\t# Span value of first day is always 1\n",
    "\tS[0] = 1\n",
    "\n",
    "\t# Calculate span value of remaining days by linearly checking previous days\n",
    "\tfor i in range(1, n, 1):\n",
    "\t\tS[i] = 1 # Initialize span value\n",
    "\n",
    "\t\t# Traverse left while the next element on left is smaller than price[i]\n",
    "\t\tj = i - 1\n",
    "\t\twhile (j>= 0) and (price[i] >= price[j]) :\n",
    "\t\t\t\t\tS[i] += 1\n",
    "\t\t\t\t\tj -= 1\n",
    "\t\t\t\t\t\t\n",
    "# A utility function to print elements of array\n",
    "def printArray(Sarr, n):\n",
    "\n",
    "\tfor i in range(n):\n",
    "\t\tprint(Sarr[i], end = \" \")\n",
    "\n",
    "# Driver program to test above function\n",
    "price = [10, 4, 5, 90, 120, 80]\n",
    "n = len(price)\n",
    "S = [None] * n\n",
    "\n",
    "# Fill the span values in list S[]\n",
    "calculateSpan(price, n, S)\n",
    "\n",
    "# print the calculated span values\n",
    "printArray(S, n)"
   ]
  },
  {
   "cell_type": "markdown",
   "metadata": {},
   "source": [
    "##### Linear time solution Without using stacks"
   ]
  },
  {
   "cell_type": "code",
   "execution_count": 2,
   "metadata": {},
   "outputs": [
    {
     "name": "stdout",
     "output_type": "stream",
     "text": [
      "1 1 2 4 5 1 \n"
     ]
    }
   ],
   "source": [
    "# Python3 program for a linear time solution for stock span problem without using stack\n",
    "\n",
    "# An efficient method to calculate stock span values implementing the same idea without using stack\n",
    "def calculateSpan(A, n, ans):\n",
    "\t\n",
    "\t# Span value of first element is always 1\n",
    "\tans[0] = 1\n",
    "\n",
    "\t# Calculate span values for rest of the elements\n",
    "\tfor i in range(1, n):\n",
    "\t\tcounter = 1\n",
    "\t\t\n",
    "\t\twhile ((i - counter) >= 0 and\n",
    "\t\t\tA[i] >= A[i - counter]):\n",
    "\t\t\tcounter += ans[i - counter]\n",
    "\t\tans[i] = counter\n",
    "\n",
    "# A utility function to print elements of array\n",
    "def printArray(arr, n):\n",
    "\t\n",
    "\tfor i in range(n):\n",
    "\t\tprint(arr[i], end = ' ')\n",
    "\tprint()\n",
    "\n",
    "# Driver code\n",
    "price = [ 10, 4, 5, 90, 120, 80 ]\n",
    "n = len(price)\n",
    "S = [0] * (n)\n",
    "\n",
    "# Fill the span values in array S[]\n",
    "calculateSpan(price, n, S)\n",
    "\n",
    "# Print the calculated span values\n",
    "printArray(S, n)"
   ]
  },
  {
   "cell_type": "code",
   "execution_count": null,
   "metadata": {},
   "outputs": [],
   "source": []
  }
 ],
 "metadata": {
  "kernelspec": {
   "display_name": "Python 3",
   "language": "python",
   "name": "python3"
  },
  "language_info": {
   "codemirror_mode": {
    "name": "ipython",
    "version": 3
   },
   "file_extension": ".py",
   "mimetype": "text/x-python",
   "name": "python",
   "nbconvert_exporter": "python",
   "pygments_lexer": "ipython3",
   "version": "3.8.6"
  }
 },
 "nbformat": 4,
 "nbformat_minor": 2
}
