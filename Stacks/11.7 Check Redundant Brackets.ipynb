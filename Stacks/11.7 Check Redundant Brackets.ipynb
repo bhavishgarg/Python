{
 "cells": [
  {
   "cell_type": "markdown",
   "metadata": {},
   "source": [
    "(a+b) is not redundant ---- False\n",
    "\n",
    "((a+b)) is redendant   ---- True\n",
    "\n",
    "(a+(b+c)) is not redundant- False    \n",
    "\n",
    "Is there any useful information between a pair of brackets then it is not redundant else it's redundant."
   ]
  },
  {
   "cell_type": "code",
   "execution_count": 3,
   "metadata": {},
   "outputs": [
    {
     "name": "stdout",
     "output_type": "stream",
     "text": [
      "Yes\n",
      "Yes\n",
      "No\n"
     ]
    }
   ],
   "source": [
    "# Python3 Program to check whether valid expression is redundant or not\n",
    " \n",
    "# Function to check redundant brackets in a balanced expression\n",
    "def checkRedundancy(Str):\n",
    "     \n",
    "    # create a stack of characters\n",
    "    st = []\n",
    " \n",
    "    # Iterate through the given expression\n",
    "    for ch in Str:\n",
    " \n",
    "        # if current character is close parenthesis ')'\n",
    "        if (ch == ')'):\n",
    "            top = st[-1]\n",
    "            st.pop()\n",
    " \n",
    "            # If immediate pop have open parenthesis '(' duplicate brackets found\n",
    "            flag = True\n",
    " \n",
    "            while (top != '('):\n",
    " \n",
    "                # Check for operators in expression\n",
    "                if (top == '+' or top == '-' or top == '*' or top == '/'):\n",
    "                    flag = False\n",
    " \n",
    "                # Fetch top element of stack\n",
    "                top = st[-1]\n",
    "                st.pop()\n",
    " \n",
    "            # If operators not found\n",
    "            if (flag == True):\n",
    "                return True\n",
    " \n",
    "        else:\n",
    "            st.append(ch) # append open parenthesis '(', operators and operands to stack\n",
    "    return False\n",
    " \n",
    "# Function to check redundant brackets\n",
    "def findRedundant(Str):\n",
    "    ans = checkRedundancy(Str)\n",
    "    if (ans == True):\n",
    "        print(\"Yes\")\n",
    "    else:\n",
    "        print(\"No\")\n",
    "        \n",
    "# Driver code\n",
    "if __name__ == '__main__':\n",
    "    Str = \"((a+b))\"\n",
    "    findRedundant(Str)\n",
    " \n",
    "    Str = \"(a+(b)/c)\"\n",
    "    findRedundant(Str)\n",
    " \n",
    "    Str = \"(a+b*(c-d))\"\n",
    "    findRedundant(Str)"
   ]
  },
  {
   "cell_type": "code",
   "execution_count": null,
   "metadata": {},
   "outputs": [],
   "source": []
  }
 ],
 "metadata": {
  "kernelspec": {
   "display_name": "Python 3",
   "language": "python",
   "name": "python3"
  },
  "language_info": {
   "codemirror_mode": {
    "name": "ipython",
    "version": 3
   },
   "file_extension": ".py",
   "mimetype": "text/x-python",
   "name": "python",
   "nbconvert_exporter": "python",
   "pygments_lexer": "ipython3",
   "version": "3.8.6"
  }
 },
 "nbformat": 4,
 "nbformat_minor": 2
}
