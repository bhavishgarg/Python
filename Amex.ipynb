{
 "cells": [
  {
   "cell_type": "markdown",
   "metadata": {},
   "source": [
    "#### Children's day"
   ]
  },
  {
   "cell_type": "code",
   "execution_count": 6,
   "metadata": {},
   "outputs": [
    {
     "name": "stdout",
     "output_type": "stream",
     "text": [
      "40\n"
     ]
    }
   ],
   "source": [
    "input1=6\n",
    "input2=4\n",
    "arr=[100,20,40,20,50,50]\n",
    "for value in arr:\n",
    "    c=0\n",
    "    for ele in arr:\n",
    "        if ele>=value:\n",
    "            c=c+1\n",
    "    if c==input2:\n",
    "        break\n",
    "print(value)"
   ]
  },
  {
   "cell_type": "markdown",
   "metadata": {},
   "source": [
    "#### John photo album"
   ]
  },
  {
   "cell_type": "code",
   "execution_count": 8,
   "metadata": {},
   "outputs": [
    {
     "name": "stdout",
     "output_type": "stream",
     "text": [
      "3\n",
      "1\n",
      "-1 0 0\n",
      "[2, 0, 0]\n",
      "1\n"
     ]
    }
   ],
   "source": [
    "N=int(input())   # total no of family members\n",
    "X=int(input())   # minimum number of children required for family member to be included in John's set\n",
    "arr=list(map(int,input().split()))  # array containing child's parent index\n",
    "\n",
    "child=[0]*len(arr)   # Creating array of size N to store number of children of each parent    \n",
    "for i in range(len(arr)):\n",
    "    if arr[i]!=-1:   # Checking whether the child's parent index is not -1\n",
    "        child[arr[i]]+=1\n",
    "print(child)       \n",
    "\n",
    "count=0             # a counter variable to store count of family members with children greater than or equal to X\n",
    "for ele in child:\n",
    "    if ele>=X:\n",
    "        count+=1\n",
    "print(count)"
   ]
  },
  {
   "cell_type": "code",
   "execution_count": null,
   "metadata": {},
   "outputs": [],
   "source": []
  }
 ],
 "metadata": {
  "kernelspec": {
   "display_name": "Python 3",
   "language": "python",
   "name": "python3"
  },
  "language_info": {
   "codemirror_mode": {
    "name": "ipython",
    "version": 3
   },
   "file_extension": ".py",
   "mimetype": "text/x-python",
   "name": "python",
   "nbconvert_exporter": "python",
   "pygments_lexer": "ipython3",
   "version": "3.8.6"
  }
 },
 "nbformat": 4,
 "nbformat_minor": 4
}
