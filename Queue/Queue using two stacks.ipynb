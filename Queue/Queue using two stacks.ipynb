{
 "cells": [
  {
   "cell_type": "markdown",
   "metadata": {},
   "source": [
    "#### Two-ways:\n",
    "#### 1) Enqueue() - O(N) , Dequeue() - O(1)\n",
    "##### STEPS-\n",
    "To enqueue any element in s1\n",
    "1) Move all elements from s1 to s2\n",
    "\n",
    "2) push the new element in s1\n",
    "\n",
    "3) Now move back all the elements from s2 to s1\n",
    "\n",
    "To dequeue an element\n",
    "1) Simply pop the top element s1.pop()\n",
    "#### 2) Enqueue() - O(1) , Dequeue() and front() - O(N)\n",
    "##### STEPS-\n",
    "To enqueue an element \n",
    "1) Push into s1\n",
    "\n",
    "To dequeue an element from s1\n",
    "1) Move n-1 elements from s1 to s2\n",
    "\n",
    "2) Pop the only element left in s1\n",
    "\n",
    "3) Now move back all the elements from s2 to s1\n",
    "\n",
    "##### Rest all functions will be O(1)"
   ]
  },
  {
   "cell_type": "markdown",
   "metadata": {},
   "source": [
    "### 1) Enqueue - O(N) ,Dequeue(1)"
   ]
  },
  {
   "cell_type": "code",
   "execution_count": 29,
   "metadata": {},
   "outputs": [],
   "source": [
    "class Queue:\n",
    "    \n",
    "    def __init__(self):\n",
    "        self.__s1=[]\n",
    "        self.__s2=[]\n",
    "        \n",
    "    def enqueue(self,data):\n",
    "        #O(N)\n",
    "        \n",
    "        while(len(self.__s1)!=0):\n",
    "            self.__s2.append(self.__s1.pop())   # pop the element and put it in s2\n",
    "            \n",
    "        self.__s1.append(data)                  # push the new data in s1\n",
    "        \n",
    "        while(len(self.__s2)!=0):\n",
    "            self.__s1.append(self.__s2.pop())   # now pop from s2 and put it in s1\n",
    "            \n",
    "        return\n",
    "    \n",
    "    def dequeue(self):\n",
    "        #O(1)\n",
    "        if len(self.__s1)==0:\n",
    "            return -1\n",
    "        return self.__s1.pop()\n",
    "\n",
    "    def front(self):\n",
    "        if len(self.__s1)==0:\n",
    "            return -1\n",
    "        return self.__s1[-1]        # we don't have to pop but just return the last element\n",
    "    \n",
    "    def size(self):\n",
    "        return len(self.__s1)\n",
    "    \n",
    "    def isempty(self):\n",
    "        return self.size()==0"
   ]
  },
  {
   "cell_type": "code",
   "execution_count": 30,
   "metadata": {},
   "outputs": [
    {
     "name": "stdout",
     "output_type": "stream",
     "text": [
      "1\n",
      "2\n",
      "3\n",
      "4\n"
     ]
    }
   ],
   "source": [
    "q=Queue()\n",
    "q.enqueue(1)\n",
    "q.enqueue(2)\n",
    "q.enqueue(3)\n",
    "q.enqueue(4)\n",
    "\n",
    "while (q.isempty() is False):\n",
    "    print(q.front())\n",
    "    q.dequeue()"
   ]
  },
  {
   "cell_type": "code",
   "execution_count": null,
   "metadata": {},
   "outputs": [],
   "source": []
  }
 ],
 "metadata": {
  "kernelspec": {
   "display_name": "Python 3",
   "language": "python",
   "name": "python3"
  },
  "language_info": {
   "codemirror_mode": {
    "name": "ipython",
    "version": 3
   },
   "file_extension": ".py",
   "mimetype": "text/x-python",
   "name": "python",
   "nbconvert_exporter": "python",
   "pygments_lexer": "ipython3",
   "version": "3.8.6"
  }
 },
 "nbformat": 4,
 "nbformat_minor": 4
}
