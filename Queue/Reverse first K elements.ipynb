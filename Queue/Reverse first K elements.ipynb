{
 "cells": [
  {
   "cell_type": "markdown",
   "metadata": {},
   "source": [
    "Given a queue and an integer k, reverse first k elements. Return the updated queue."
   ]
  },
  {
   "cell_type": "code",
   "execution_count": 4,
   "metadata": {},
   "outputs": [
    {
     "name": "stdout",
     "output_type": "stream",
     "text": [
      "1 2 3 4 5\n",
      "3\n",
      "3 2 1 4 5 "
     ]
    }
   ],
   "source": [
    "import queue\n",
    "\n",
    "def reverseFirstK(q, k):\n",
    "    # special cases\n",
    "    if (q.empty() == True or k > q.qsize()):\n",
    "        return\n",
    "    if (k <= 0):\n",
    "        return\n",
    "    \n",
    "    Stack = []\n",
    "    for i in range(k):\n",
    "        Stack.append(q.get())\n",
    "\n",
    "    while (len(Stack) != 0):\n",
    "        q.put(Stack.pop())\n",
    "\n",
    "    for i in range(q.qsize() - k):\n",
    "        q.put(q.get())\n",
    "\n",
    "\n",
    "from sys import setrecursionlimit\n",
    "setrecursionlimit(11000)\n",
    "\n",
    "li = [int(ele) for ele in input().split()]\n",
    "q = queue.Queue()\n",
    "for ele in li:\n",
    "    q.put(ele)\n",
    "k = int(input())\n",
    "reverseFirstK(q, k)\n",
    "while (q.qsize() > 0):\n",
    "    print(q.get(),end=\" \")"
   ]
  },
  {
   "cell_type": "code",
   "execution_count": null,
   "metadata": {},
   "outputs": [],
   "source": []
  }
 ],
 "metadata": {
  "kernelspec": {
   "display_name": "Python 3",
   "language": "python",
   "name": "python3"
  },
  "language_info": {
   "codemirror_mode": {
    "name": "ipython",
    "version": 3
   },
   "file_extension": ".py",
   "mimetype": "text/x-python",
   "name": "python",
   "nbconvert_exporter": "python",
   "pygments_lexer": "ipython3",
   "version": "3.8.6"
  }
 },
 "nbformat": 4,
 "nbformat_minor": 4
}
