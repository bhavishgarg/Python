{
 "cells": [
  {
   "cell_type": "markdown",
   "metadata": {},
   "source": [
    "#### All functions are done in O(1) "
   ]
  },
  {
   "cell_type": "code",
   "execution_count": 1,
   "metadata": {},
   "outputs": [],
   "source": [
    "# Whenever I deque then I +1 the front index so that Dequeue is acheived in O(1) time\n",
    "# For size maintain a count\n",
    "\n",
    "class QueueUsingArray:\n",
    "    def __init__(self):         # in the constructor we'll have three things\n",
    "        self.__arr = []         # private variable\n",
    "        self.__count = 0\n",
    "        self.__front = 0        # maintaing an index FRONT=0 to make dequeue O(1)\n",
    "        \n",
    "    def enqueue(self, data):\n",
    "        self.__arr.append(data)\n",
    "        self.__count += 1\n",
    "        \n",
    "    def dequeue(self):\n",
    "        if self.__count == 0:  # or if self.empty():\n",
    "            return -1          # or print(\"Queue is empty\")\n",
    "        \n",
    "        element = self.__arr[self.__front]   # first element of the array\n",
    "        self.__front += 1                    # making front=next element after removing\n",
    "        self.__count -= 1\n",
    "        return element\n",
    "        \n",
    "    def front(self):\n",
    "        if self.__count == 0:\n",
    "            return -1\n",
    "        return self.__arr[self.__front]\n",
    "        \n",
    "    def size(self):\n",
    "        return self.__count\n",
    "    \n",
    "    def isEmpty(self):\n",
    "        return self.size() == 0"
   ]
  },
  {
   "cell_type": "code",
   "execution_count": 4,
   "metadata": {},
   "outputs": [
    {
     "name": "stdout",
     "output_type": "stream",
     "text": [
      "1\n",
      "2\n",
      "3\n",
      "4\n",
      "-1\n"
     ]
    }
   ],
   "source": [
    "q = QueueUsingArray()\n",
    "\n",
    "q.enqueue(1)\n",
    "q.enqueue(2)\n",
    "q.enqueue(3)\n",
    "q.enqueue(4)\n",
    "\n",
    "while q.isEmpty() is False:\n",
    "    #print(q.front())\n",
    "    print(q.dequeue())\n",
    "    \n",
    "print(q.dequeue())"
   ]
  }
 ],
 "metadata": {
  "kernelspec": {
   "display_name": "Python 3",
   "language": "python",
   "name": "python3"
  },
  "language_info": {
   "codemirror_mode": {
    "name": "ipython",
    "version": 3
   },
   "file_extension": ".py",
   "mimetype": "text/x-python",
   "name": "python",
   "nbconvert_exporter": "python",
   "pygments_lexer": "ipython3",
   "version": "3.8.6"
  }
 },
 "nbformat": 4,
 "nbformat_minor": 2
}
