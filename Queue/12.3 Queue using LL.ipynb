{
 "cells": [
  {
   "cell_type": "markdown",
   "metadata": {},
   "source": [
    "queue will be empty when head is None"
   ]
  },
  {
   "cell_type": "code",
   "execution_count": 11,
   "metadata": {},
   "outputs": [],
   "source": [
    "# QueueUsingLL\n",
    "class Node:\n",
    "    def __init__(self, data):\n",
    "        self.data = data\n",
    "        self.next = None\n",
    "        \n",
    "\n",
    "class QueueUsingLL:\n",
    "    \n",
    "    def __init__(self):\n",
    "        self.__head = None       # private variable\n",
    "        self.__tail = None       # private variable\n",
    "        self.__count = 0         # no: of elements\n",
    "  \n",
    "        \n",
    "    def enqueue(self, element):\n",
    "        newNode = Node(element)\n",
    "        if self.__head is None:     # for the first node , when queue is empty\n",
    "            self.__head = newNode\n",
    "            self.__tail = newNode   \n",
    "        else:                       # ideally for rest of the nodes\n",
    "            self.__tail.next = newNode\n",
    "            self.__tail = self.__tail.next\n",
    "    \n",
    "        self.__count += 1\n",
    "            \n",
    "        \n",
    "    def dequeue(self):        \n",
    "        if self.__head is None:\n",
    "            print(\"Hey! Queue is Empty\")\n",
    "            return \n",
    "        \n",
    "        ele = self.__head.data    # element at the front\n",
    "        self.__head = self.__head.next\n",
    "        self.__count -= 1\n",
    "        \n",
    "        return ele\n",
    "        \n",
    "    def front(self):\n",
    "        if self.__count == 0:\n",
    "            print(\"Queue is Empty!\")\n",
    "            return -1\n",
    "        \n",
    "        return self.__head.data\n",
    "        \n",
    "    def size(self):\n",
    "        return self.__count\n",
    "    \n",
    "    def isEmpty(self):\n",
    "        return self.size() == 0\n",
    "    "
   ]
  },
  {
   "cell_type": "code",
   "execution_count": 12,
   "metadata": {},
   "outputs": [
    {
     "name": "stdout",
     "output_type": "stream",
     "text": [
      "4\n",
      "False\n",
      "1\n",
      "2\n",
      "3\n",
      "4\n",
      "Queue is Empty!\n",
      "-1\n"
     ]
    }
   ],
   "source": [
    "# from QueueUsingLL import Queue\n",
    "q = QueueUsingLL()\n",
    "\n",
    "q.enqueue(1)\n",
    "q.enqueue(2)\n",
    "q.enqueue(3)\n",
    "q.enqueue(4)\n",
    "\n",
    "print(q.size())\n",
    "print(q.isEmpty())\n",
    "#print(q.front().data)\n",
    "\n",
    "while q.isEmpty() is False:\n",
    "    print(q.dequeue())\n",
    "print(q.front())\n"
   ]
  },
  {
   "cell_type": "code",
   "execution_count": 14,
   "metadata": {},
   "outputs": [
    {
     "name": "stdout",
     "output_type": "stream",
     "text": [
      "1 2 3 4 5 -1\n",
      "2\n",
      "1\n",
      "false\n"
     ]
    }
   ],
   "source": [
    "q = QueueUsingLL()\n",
    "li = [int(ele) for ele in input().split()]\n",
    "i=0\n",
    "while i<len(li):\n",
    "    choice = li[i]\n",
    "    if choice == -1:\n",
    "        break\n",
    "    elif choice == 1:\n",
    "        q.enqueue(li[i+1])\n",
    "        i+=1\n",
    "    elif choice == 2:\n",
    "        ans = q.dequeue()\n",
    "        if ans!=0:\n",
    "            print(ans)\n",
    "        else:\n",
    "            print(-1)\n",
    "    elif choice == 3:\n",
    "        ans = q.front()\n",
    "        if ans!=0:\n",
    "            print(ans)\n",
    "        else:\n",
    "            print(-1)\n",
    "    elif choice == 4:\n",
    "        print(q.size())\n",
    "    elif choice == 5:\n",
    "        if(q.isEmpty()):\n",
    "            print('true')\n",
    "        else:\n",
    "            print('false')\n",
    "    i+=1"
   ]
  },
  {
   "cell_type": "code",
   "execution_count": null,
   "metadata": {},
   "outputs": [],
   "source": []
  }
 ],
 "metadata": {
  "kernelspec": {
   "display_name": "Python 3",
   "language": "python",
   "name": "python3"
  },
  "language_info": {
   "codemirror_mode": {
    "name": "ipython",
    "version": 3
   },
   "file_extension": ".py",
   "mimetype": "text/x-python",
   "name": "python",
   "nbconvert_exporter": "python",
   "pygments_lexer": "ipython3",
   "version": "3.8.6"
  }
 },
 "nbformat": 4,
 "nbformat_minor": 2
}
