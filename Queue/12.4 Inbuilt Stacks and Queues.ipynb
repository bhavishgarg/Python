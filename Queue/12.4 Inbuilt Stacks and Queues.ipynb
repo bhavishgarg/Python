{
 "cells": [
  {
   "cell_type": "markdown",
   "metadata": {},
   "source": [
    "### For inbuilt stack we can use list"
   ]
  },
  {
   "cell_type": "code",
   "execution_count": 8,
   "metadata": {},
   "outputs": [
    {
     "name": "stdout",
     "output_type": "stream",
     "text": [
      "5\n",
      "4\n"
     ]
    }
   ],
   "source": [
    "# inbuilt stack as list\n",
    "s = [1,2,3]\n",
    "\n",
    "s.append(4)\n",
    "s.append(5)\n",
    "\n",
    "print(s.pop())\n",
    "print(s.pop())"
   ]
  },
  {
   "cell_type": "markdown",
   "metadata": {},
   "source": [
    "#### We shouldn't use list for queue in Python instead we've an inbuilt library queue from Python 3 onwards which performs Enqueue and Dequeue operations in O(1) time\n"
   ]
  },
  {
   "cell_type": "code",
   "execution_count": 5,
   "metadata": {},
   "outputs": [
    {
     "name": "stdout",
     "output_type": "stream",
     "text": [
      "1\n",
      "2\n",
      "3\n",
      "4\n"
     ]
    }
   ],
   "source": [
    "# Inbuilt Queue Library\n",
    "\n",
    "import queue              # importing queue inbuilt library\n",
    "q = queue.Queue()         # Queue class\n",
    "\n",
    "q.put(1)                  # put enqueues the element \n",
    "q.put(2)\n",
    "q.put(3)\n",
    "q.put(4)\n",
    "\n",
    "while not q.empty():      # .empty() is same as isempty()\n",
    "    print(q.get())        # get dequeue the element"
   ]
  },
  {
   "cell_type": "code",
   "execution_count": 1,
   "metadata": {},
   "outputs": [
    {
     "name": "stdout",
     "output_type": "stream",
     "text": [
      "3\n",
      "2\n",
      "1\n"
     ]
    }
   ],
   "source": [
    "# Inbuilt Stack Library\n",
    "import queue\n",
    "q = queue.LifoQueue()              # LifoQueue class is actually a stack\n",
    "q.put(1)\n",
    "q.put(2)\n",
    "q.put(3)\n",
    "\n",
    "while not q.empty():\n",
    "    print(q.get())"
   ]
  },
  {
   "cell_type": "markdown",
   "metadata": {},
   "source": [
    "##### The queue module defines the following classes\n",
    "\n",
    "1) class queue.Queue         #Constructor for a FIFO queue.\n",
    "\n",
    "2) class queue.LifoQueue     # STACK\n",
    "\n",
    "3) class queue.PriorityQueue\n",
    "\n",
    "##### Queue objects (Queue, LifoQueue, or PriorityQueue) provide the public methods\n",
    "\n",
    "1) Queue.qsize()\n",
    "Return the approximate size of the queue.\n",
    "\n",
    "2) Queue.empty()\n",
    "Return True if the queue is empty, False otherwise.\n",
    "\n",
    "3) Queue.put(item)\n",
    "Put item into the queue.\n",
    "\n",
    "4) Queue.get(block=True, timeout=None)\n",
    "Remove and return an item from the queue.\n",
    "\n",
    "5) NO top() functionality.\n",
    "Either create our own Stack/Queue class using arrays or create a subclass of LIFOQUEUE that implemends the top() method.\n",
    "\n",
    "6) Queue.full()\n",
    "Return True if the queue is full, False otherwise"
   ]
  }
 ],
 "metadata": {
  "kernelspec": {
   "display_name": "Python 3",
   "language": "python",
   "name": "python3"
  },
  "language_info": {
   "codemirror_mode": {
    "name": "ipython",
    "version": 3
   },
   "file_extension": ".py",
   "mimetype": "text/x-python",
   "name": "python",
   "nbconvert_exporter": "python",
   "pygments_lexer": "ipython3",
   "version": "3.8.6"
  }
 },
 "nbformat": 4,
 "nbformat_minor": 2
}
