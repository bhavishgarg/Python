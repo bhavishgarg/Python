{
 "cells": [
  {
   "cell_type": "markdown",
   "metadata": {},
   "source": [
    "Given a queue of integers, reverse it without help of any explicit stack or queue. \n",
    "You need to change in the given queue itself.\n",
    "\n",
    "Note : No need to return or print the queue."
   ]
  },
  {
   "cell_type": "markdown",
   "metadata": {},
   "source": [
    "Input format :  Elements Of Queue\n",
    "\n",
    "Output format :  Queue elements in reverse order"
   ]
  },
  {
   "cell_type": "code",
   "execution_count": 4,
   "metadata": {},
   "outputs": [
    {
     "name": "stdout",
     "output_type": "stream",
     "text": [
      "1 2 3 4\n",
      "4 3 2 1 "
     ]
    }
   ],
   "source": [
    "import queue\n",
    "\n",
    "def reverseQueue(q1):\n",
    "    Stack = []\n",
    "    while (not q1.empty()):\n",
    "        Stack.append(q1.get())\n",
    "\n",
    "    while (len(Stack) != 0):\n",
    "        q1.put(Stack.pop())\n",
    "\n",
    "from sys import setrecursionlimit\n",
    "setrecursionlimit(11000)\n",
    "\n",
    "li = [int(ele) for ele in (input().split())]\n",
    "q1 = queue.Queue()\n",
    "for ele in li:\n",
    "    q1.put(ele)\n",
    "reverseQueue(q1)\n",
    "\n",
    "while (q1.empty() is False):\n",
    "    print(q1.get(), end=' ')"
   ]
  },
  {
   "cell_type": "markdown",
   "metadata": {},
   "source": [
    "#### Stack:\n",
    "##### append , pop\n",
    "\n",
    "#### Queue:\n",
    "##### put , get"
   ]
  }
 ],
 "metadata": {
  "kernelspec": {
   "display_name": "Python 3",
   "language": "python",
   "name": "python3"
  },
  "language_info": {
   "codemirror_mode": {
    "name": "ipython",
    "version": 3
   },
   "file_extension": ".py",
   "mimetype": "text/x-python",
   "name": "python",
   "nbconvert_exporter": "python",
   "pygments_lexer": "ipython3",
   "version": "3.8.6"
  }
 },
 "nbformat": 4,
 "nbformat_minor": 4
}
