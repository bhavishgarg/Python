{
 "cells": [
  {
   "cell_type": "markdown",
   "metadata": {},
   "source": [
    "### Queue: follows FIFO mechanism\n",
    "\n",
    "1) Enqueue() - Inserting an element to the queue\n",
    "\n",
    "2) Dequeue() - Deleting an element from the queue\n",
    "\n",
    "3) size() - returns the size of the queue\n",
    "\n",
    "4) isEmpty() - returns queue is empty or not\n",
    "\n",
    "5) front() - returns front element of queue\n",
    "\n",
    "###### Elements are inserted at the rear part of the queue and elements are removed from the front end."
   ]
  },
  {
   "cell_type": "markdown",
   "metadata": {},
   "source": [
    "Different entry and exit points!\n",
    "\n",
    "Remove-Front part\n",
    "\n",
    "Entry-Rear part"
   ]
  },
  {
   "cell_type": "code",
   "execution_count": null,
   "metadata": {},
   "outputs": [],
   "source": []
  }
 ],
 "metadata": {
  "kernelspec": {
   "display_name": "Python 3",
   "language": "python",
   "name": "python3"
  },
  "language_info": {
   "codemirror_mode": {
    "name": "ipython",
    "version": 3
   },
   "file_extension": ".py",
   "mimetype": "text/x-python",
   "name": "python",
   "nbconvert_exporter": "python",
   "pygments_lexer": "ipython3",
   "version": "3.8.6"
  }
 },
 "nbformat": 4,
 "nbformat_minor": 2
}
