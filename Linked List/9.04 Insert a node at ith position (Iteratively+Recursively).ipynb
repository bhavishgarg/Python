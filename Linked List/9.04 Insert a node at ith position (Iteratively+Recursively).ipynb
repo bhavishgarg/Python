{
 "cells": [
  {
   "cell_type": "markdown",
   "metadata": {},
   "source": [
    "# Time complexities of insert at ith position using iteration and recursion:\n",
    "### Iterative : O(N)"
   ]
  },
  {
   "cell_type": "markdown",
   "metadata": {},
   "source": [
    "### You can insert an element at 0 <= i <= len(list) positions"
   ]
  },
  {
   "cell_type": "code",
   "execution_count": 5,
   "metadata": {},
   "outputs": [
    {
     "name": "stdout",
     "output_type": "stream",
     "text": [
      "1 2 3 4 5 -1\n",
      "1->2->3->4->5->None\n",
      "1->2->6->3->4->5->None\n",
      "9->1->2->6->3->4->5->None\n"
     ]
    }
   ],
   "source": [
    "# Maintaining a tail:\n",
    "class Node:\n",
    "    def __init__(self, data):\n",
    "        self.data = data\n",
    "        self.next = None\n",
    "\n",
    "def printLL(head):\n",
    "    while head is not None:\n",
    "        print(str(head.data) + \"->\", end = \"\")    \n",
    "        head = head.next\n",
    "    print(\"None\")\n",
    "    return\n",
    "\n",
    "def length(head):                    #Traversing the LL and maintaining a count parallely\n",
    "    count=0                          # head is just a local variable here\n",
    "    while head is not None:\n",
    "        count=count+1\n",
    "        head=head.next \n",
    "    return count\n",
    "\n",
    "#def lengthRecursive(head):\n",
    "    #if head is None:\n",
    "        #return 0\n",
    "    #return 1 + lengthRecursive(head.next)\n",
    "\n",
    "def insertAtI(head,i,data):\n",
    "    if i<0 or i>length(head):           # We cannot insert any node,simply return the original LL\n",
    "        return head  \n",
    "    \n",
    "    count=0\n",
    "    prev=None\n",
    "    curr=head \n",
    "    while count<i:                     # Traverse till we reach the ith position of the LL\n",
    "        \n",
    "        prev=curr\n",
    "        curr=curr.next\n",
    "        count=count+1\n",
    "        \n",
    "    newNode=Node(data)                 # Coming out of the loop,we have reached the ith position now\n",
    "    if prev is not None:\n",
    "        prev.next=newNode\n",
    "    else:                              # if prev is None = insert at first position so make it the head\n",
    "        head=newNode                   \n",
    "    newNode.next=curr\n",
    "    \n",
    "    return head\n",
    "\n",
    "def takeInput():                                      \n",
    "    arr = list(map(int,input().split()))\n",
    "    head = None\n",
    "    tail = None\n",
    "    for ele in arr:\n",
    "        if ele == -1:\n",
    "            break\n",
    "        \n",
    "        newNode = Node(ele)\n",
    "\n",
    "        if head is None:\n",
    "            head = newNode\n",
    "            tail = newNode\n",
    "            \n",
    "        else:                            # tail will move one step ahead after each iteration\n",
    "            tail.next = newNode          # connecting the previous last node to the new last node\n",
    "            tail = newNode               # tail will start pointing to the new last node\n",
    "            \n",
    "    return head \n",
    "    \n",
    "head = takeInput()\n",
    "printLL(head)\n",
    "head=insertAtI(head,2,6)\n",
    "printLL(head)\n",
    "head=insertAtI(head,0,9)\n",
    "printLL(head)"
   ]
  },
  {
   "cell_type": "markdown",
   "metadata": {},
   "source": [
    "\n",
    "### Recursive : O(i)"
   ]
  },
  {
   "cell_type": "code",
   "execution_count": 2,
   "metadata": {},
   "outputs": [
    {
     "name": "stdout",
     "output_type": "stream",
     "text": [
      "1 2 3 4 5 -1\n",
      "1->2->3->4->5->None\n",
      "1->2->6->3->4->5->None\n",
      "9->1->2->6->3->4->5->None\n"
     ]
    }
   ],
   "source": [
    "# Maintaining a tail:\n",
    "class Node:\n",
    "    def __init__(self, data):\n",
    "        self.data = data\n",
    "        self.next = None\n",
    "\n",
    "def printLL(head):\n",
    "    while head is not None:\n",
    "        print(str(head.data) + \"->\", end = \"\")    \n",
    "        head = head.next\n",
    "    print(\"None\")\n",
    "    return\n",
    "\n",
    "def length(head):                    #Traversing the LL and maintaining a count parallely\n",
    "    count=0                          # head is just a local variable here\n",
    "    while head is not None:\n",
    "        count=count+1\n",
    "        head=head.next \n",
    "    return count \n",
    "\n",
    "def insertAtIR(head, i, data):\n",
    "    if i < 0:                         # doesn't make sense,return as it is\n",
    "        return head\n",
    "    \n",
    "    if i == 0:\n",
    "        newNode = Node(data)\n",
    "        newNode.next = head\n",
    "        return newNode\n",
    "                                     # after i==0 because in the case of empty LL,i=0 and head = None which is valid\n",
    "    if head == None:                 # i becomes more than the length of the LL\n",
    "        return None                         \n",
    "    \n",
    "    smallHead = insertAtIR(head.next, i-1, data)\n",
    "    head.next = smallHead\n",
    "    \n",
    "    return head\n",
    "\n",
    "\n",
    "def takeInput():                                      \n",
    "    arr = list(map(int,input().split()))\n",
    "    head = None\n",
    "    tail = None\n",
    "    for ele in arr:\n",
    "        if ele == -1:\n",
    "            break\n",
    "        \n",
    "        newNode = Node(ele)\n",
    "\n",
    "        if head is None:\n",
    "            head = newNode\n",
    "            tail = newNode\n",
    "            \n",
    "        else:                            # tail will move one step ahead after each iteration\n",
    "            tail.next = newNode          # connecting the previous last node to the new last node\n",
    "            tail = newNode               # tail will start pointing to the new last node\n",
    "            \n",
    "    return head \n",
    "    \n",
    "head = takeInput()\n",
    "printLL(head)\n",
    "head=insertAtIR(head,2,6)\n",
    "printLL(head)\n",
    "head=insertAtIR(head,0,9)\n",
    "printLL(head)"
   ]
  },
  {
   "cell_type": "markdown",
   "metadata": {},
   "source": [
    "### Another method\n"
   ]
  },
  {
   "cell_type": "code",
   "execution_count": 12,
   "metadata": {},
   "outputs": [
    {
     "name": "stdout",
     "output_type": "stream",
     "text": [
      "1 2 3 4 5 6 -1\n",
      "500 --> 1 --> 2 --> 3 --> 4 --> 5 --> 6 --> None\n"
     ]
    }
   ],
   "source": [
    "class Node:\n",
    "    def __init__(self, data):\n",
    "        self.data = data\n",
    "        self.next = None\n",
    "        \n",
    "def length(head):\n",
    "    cnt = 0\n",
    "    while head is not None:\n",
    "        cnt += 1\n",
    "        head = head.next\n",
    "    return cnt\n",
    "\n",
    "def insertAtI(head, i, data):\n",
    "    curr = head\n",
    "        \n",
    "    if i < 0 or i > length(head):\n",
    "        return head\n",
    "    \n",
    "    if i == 0:                          #Another logic by me\n",
    "        head = Node(data)\n",
    "        head.next = curr\n",
    "        return head        \n",
    "    \n",
    "    for j in range(1, i):\n",
    "        curr = curr.next\n",
    "        \n",
    "    temp = curr.next    \n",
    "    curr.next = Node(data)\n",
    "    curr = curr.next\n",
    "    curr.next = temp\n",
    "        \n",
    "    return head\n",
    " \n",
    "def printLL(head):\n",
    "    curr = head\n",
    "    while curr is not None:\n",
    "        print(curr.data, \"-->\", end = \" \")\n",
    "        curr = curr.next\n",
    "    print(\"None\")\n",
    "\n",
    "def ll(arr):\n",
    "    if len(arr) == 0:\n",
    "        return None\n",
    "    head = Node(arr[0])\n",
    "    last = head\n",
    "    for data in arr[1:]:\n",
    "        last.next = Node(data)\n",
    "        last = last.next       \n",
    "    \n",
    "    return head\n",
    "\n",
    "arr = list(int(x) for x in input().split())\n",
    "\n",
    "l = ll(arr[:-1])\n",
    "\n",
    "x = insertAtI(l, 0, 500)    #Inserting element at the starting position\n",
    "\n",
    "# y = insertAtI(l, 5, 500)     # Inserting element at the last position \n",
    "\n",
    "# z = insertAtI(l, 2, 500)     # Inserting element at some other position  \n",
    "\n",
    "printLL(x)\n",
    "# printLL(y)\n",
    "# printLL(z)"
   ]
  },
  {
   "cell_type": "markdown",
   "metadata": {},
   "source": [
    "### Note: You can use any of the above logic in which you feel comfortable, just understand the concept then everything would be fine. You can create you own logic"
   ]
  }
 ],
 "metadata": {
  "kernelspec": {
   "display_name": "Python 3",
   "language": "python",
   "name": "python3"
  },
  "language_info": {
   "codemirror_mode": {
    "name": "ipython",
    "version": 3
   },
   "file_extension": ".py",
   "mimetype": "text/x-python",
   "name": "python",
   "nbconvert_exporter": "python",
   "pygments_lexer": "ipython3",
   "version": "3.8.6"
  }
 },
 "nbformat": 4,
 "nbformat_minor": 2
}
