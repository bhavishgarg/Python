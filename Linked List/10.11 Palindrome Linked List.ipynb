{
 "cells": [
  {
   "cell_type": "markdown",
   "metadata": {},
   "source": [
    "#####  METHOD 1 (Use a Stack)             \n",
    "\n",
    "A simple solution is to use a stack of list nodes. This mainly involves three steps.\n",
    "\n",
    "1) Traverse the given list from head to tail and push every visited node to stack.\n",
    "\n",
    "2) Traverse the list again. For every visited node, pop a node from the stack and compare data of popped node with the currently visited node.\n",
    "\n",
    "3) If all nodes matched, then return true, else false.\n",
    "\n",
    "#####  Time complexity: O(n)."
   ]
  },
  {
   "cell_type": "code",
   "execution_count": 2,
   "metadata": {},
   "outputs": [
    {
     "name": "stdout",
     "output_type": "stream",
     "text": [
      "isPalindrome: True\n"
     ]
    }
   ],
   "source": [
    "# Python3 program to check if linked list is palindrome using stack\n",
    "class Node:\n",
    "    def __init__(self,data):\n",
    "         \n",
    "        self.data = data\n",
    "        self.ptr = None\n",
    "         \n",
    "# Function to check if the linked list is palindrome or not\n",
    "def ispalindrome(head):\n",
    "     \n",
    "    # Temp pointer\n",
    "    curr = head\n",
    " \n",
    "    # Declare a stack\n",
    "    stack = []\n",
    "     \n",
    "    ispalin = True\n",
    " \n",
    "    # Push all elements of the list to the stack\n",
    "    while curr != None:\n",
    "        stack.append(curr.data)\n",
    "         \n",
    "        # Move ahead\n",
    "        curr = curr.ptr\n",
    " \n",
    "    # Iterate in the list again and check by popping from the stack\n",
    "    while head != None:\n",
    " \n",
    "        # Get the top most element\n",
    "        i = stack.pop()\n",
    "         \n",
    "        # Check if data is not same as popped element\n",
    "        if head.data == i:\n",
    "            ispalin = True\n",
    "        else:\n",
    "            ispalin = False\n",
    "            break\n",
    " \n",
    "        # Move ahead\n",
    "        head = head.ptr\n",
    "         \n",
    "    return ispalin\n",
    " \n",
    "# Driver Code\n",
    " \n",
    "# Addition of linked list\n",
    "one = Node(1)\n",
    "two = Node(2)\n",
    "three = Node(3)\n",
    "four = Node(4)\n",
    "five = Node(3)\n",
    "six = Node(2)\n",
    "seven = Node(1)\n",
    " \n",
    "# Initialize the next pointer\n",
    "# of every current pointer\n",
    "one.ptr = two\n",
    "two.ptr = three\n",
    "three.ptr = four\n",
    "four.ptr = five\n",
    "five.ptr = six\n",
    "six.ptr = seven\n",
    "seven.ptr = None\n",
    " \n",
    "# Call function to check palindrome or not\n",
    "result = ispalindrome(one)\n",
    " \n",
    "print(\"isPalindrome:\", result)\n",
    " "
   ]
  },
  {
   "cell_type": "markdown",
   "metadata": {},
   "source": [
    "##### METHOD 2 (By reversing the list) \n",
    "\n",
    "This method takes O(n) time and O(1) extra space. \n",
    "\n",
    "1) Get the middle of the linked list. \n",
    "\n",
    "2) Reverse the second half of the linked list. \n",
    "\n",
    "3) Check if the first half and second half are identical. \n",
    "\n",
    "4) Construct the original linked list by reversing the second half again and attaching it back to the first half\n",
    "\n",
    "##### Time Complexity: O(n) \n",
    "##### Auxiliary Space: O(1)  "
   ]
  }
 ],
 "metadata": {
  "kernelspec": {
   "display_name": "Python 3",
   "language": "python",
   "name": "python3"
  },
  "language_info": {
   "codemirror_mode": {
    "name": "ipython",
    "version": 3
   },
   "file_extension": ".py",
   "mimetype": "text/x-python",
   "name": "python",
   "nbconvert_exporter": "python",
   "pygments_lexer": "ipython3",
   "version": "3.8.6"
  }
 },
 "nbformat": 4,
 "nbformat_minor": 2
}
