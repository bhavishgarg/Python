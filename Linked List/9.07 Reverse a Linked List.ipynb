{
 "cells": [
  {
   "cell_type": "markdown",
   "metadata": {},
   "source": [
    "Code done by Prachi"
   ]
  },
  {
   "cell_type": "markdown",
   "metadata": {},
   "source": [
    "Watch dry for better clarity\n"
   ]
  },
  {
   "cell_type": "markdown",
   "metadata": {},
   "source": [
    "#### Time Complexity of this code=O(N^2)"
   ]
  },
  {
   "cell_type": "code",
   "execution_count": 3,
   "metadata": {},
   "outputs": [
    {
     "name": "stdout",
     "output_type": "stream",
     "text": [
      "1 2 3 4 5 -1\n",
      "1->2->3->4->5->None\n",
      "5->4->3->2->1->None\n"
     ]
    }
   ],
   "source": [
    "class Node:\n",
    "    def __init__(self, data):\n",
    "        self.data = data\n",
    "        self.next = None\n",
    "\n",
    "def printLL(head):\n",
    "    while head is not None:\n",
    "        print(str(head.data) + \"->\", end = \"\")       \n",
    "        head = head.next\n",
    "    print(\"None\")\n",
    "    return\n",
    "        \n",
    "def takeInput():                                      \n",
    "    arr = list(map(int,input().split()))\n",
    "    head = None\n",
    "    tail = None\n",
    "    for ele in arr:\n",
    "        if ele == -1:\n",
    "            break\n",
    "        \n",
    "        newNode = Node(ele)\n",
    "\n",
    "        if head is None:\n",
    "            head = newNode\n",
    "            tail = newNode\n",
    "            \n",
    "        else:                            # tail will move one step ahead after each iteration\n",
    "            tail.next = newNode          # connecting the previous last node to the new last node\n",
    "            tail = newNode               # tail will start pointing to the new last node\n",
    "            \n",
    "    return head \n",
    "\n",
    "def reverse(head):\n",
    "    if head is None:                     # OR if head is None or head.next is None \n",
    "        return None                      # order of these two is important \n",
    "    if head.next is None:\n",
    "        return head\n",
    "    \n",
    "    smallhead=reverse(head.next)\n",
    "    # reaching the last node\n",
    "    curr=smallhead   \n",
    "    while curr.next is not None:        # traversing to reach the tail of the LL WHICH IS TAKING 0(N^2)\n",
    "        curr=curr.next\n",
    "    tail=curr                           # assigning it to tail just for understanding\n",
    "    # making remaining connections\n",
    "    tail.next=head\n",
    "    head.next=None\n",
    "    \n",
    "    return smallhead\n",
    "    \n",
    "head = takeInput()\n",
    "printLL(head)\n",
    "rhead=reverse(head)\n",
    "printLL(rhead)"
   ]
  },
  {
   "cell_type": "markdown",
   "metadata": {},
   "source": [
    "#### Time Complexity=O(N) after removing the traversing part by returning a tail as well"
   ]
  },
  {
   "cell_type": "code",
   "execution_count": 8,
   "metadata": {},
   "outputs": [
    {
     "name": "stdout",
     "output_type": "stream",
     "text": [
      "1 2 3 4 5 -1\n",
      "1->2->3->4->5->None\n",
      "5->4->3->2->1->None\n"
     ]
    }
   ],
   "source": [
    "class Node:\n",
    "    def __init__(self, data):\n",
    "        self.data = data\n",
    "        self.next = None\n",
    "\n",
    "def printLL(head):\n",
    "    while head is not None:\n",
    "        print(str(head.data) + \"->\", end = \"\")       \n",
    "        head = head.next\n",
    "    print(\"None\")\n",
    "    return\n",
    "        \n",
    "def takeInput():                                      \n",
    "    arr = list(map(int,input().split()))\n",
    "    head = None\n",
    "    tail = None\n",
    "    for ele in arr:\n",
    "        if ele == -1:\n",
    "            break\n",
    "        \n",
    "        newNode = Node(ele)\n",
    "\n",
    "        if head is None:\n",
    "            head = newNode\n",
    "            tail = newNode\n",
    "            \n",
    "        else:                            # tail will move one step ahead after each iteration\n",
    "            tail.next = newNode          # connecting the previous last node to the new last node\n",
    "            tail = newNode               # tail will start pointing to the new last node\n",
    "            \n",
    "    return head \n",
    "\n",
    "def reverse(head):\n",
    "    if head is None:                     # OR if head is None or head.next is None \n",
    "        return None                      # order of these two is important \n",
    "    if head.next is None:\n",
    "        return head,head                 # the same element will be head as well as tail\n",
    "    \n",
    "    smallhead,smalltail=reverse(head.next)   # Getting head and tail of the reversed LL\n",
    "    smalltail.next=head\n",
    "    head.next=None\n",
    "    \n",
    "    return smallhead,head               # our original head is gonna be the tail after reversing example,1 here\n",
    "    \n",
    "head = takeInput()\n",
    "printLL(head)\n",
    "rhead,rtail=reverse(head)\n",
    "printLL(rhead)"
   ]
  },
  {
   "cell_type": "markdown",
   "metadata": {},
   "source": [
    "## BEST SOLUTION "
   ]
  },
  {
   "cell_type": "markdown",
   "metadata": {},
   "source": [
    "#### Time complexity=O(N) but a very good trick"
   ]
  },
  {
   "cell_type": "code",
   "execution_count": 9,
   "metadata": {},
   "outputs": [
    {
     "name": "stdout",
     "output_type": "stream",
     "text": [
      "1 2 3 4 5 -1\n",
      "1->2->3->4->5->None\n",
      "5->4->3->2->1->None\n"
     ]
    }
   ],
   "source": [
    "class Node:\n",
    "    def __init__(self, data):\n",
    "        self.data = data\n",
    "        self.next = None\n",
    "\n",
    "def printLL(head):\n",
    "    while head is not None:\n",
    "        print(str(head.data) + \"->\", end = \"\")      \n",
    "        head = head.next\n",
    "    print(\"None\")\n",
    "    return\n",
    "        \n",
    "def takeInput():                                      \n",
    "    arr = list(map(int,input().split()))\n",
    "    head = None\n",
    "    tail = None\n",
    "    for ele in arr:\n",
    "        if ele == -1:\n",
    "            break\n",
    "        \n",
    "        newNode = Node(ele)\n",
    "\n",
    "        if head is None:\n",
    "            head = newNode\n",
    "            tail = newNode\n",
    "            \n",
    "        else:                            # tail will move one step ahead after each iteration\n",
    "            tail.next = newNode          # connecting the previous last node to the new last node\n",
    "            tail = newNode               # tail will start pointing to the new last node\n",
    "            \n",
    "    return head \n",
    "\n",
    "def reverse(head):\n",
    "    if head is None:                     # OR if head is None or head.next is None \n",
    "        return None                      # order of these two is important \n",
    "    if head.next is None:\n",
    "        return head\n",
    "    \n",
    "    smallhead=reverse(head.next)\n",
    "    tail=head.next                       # our tail is actually head.next in the unreversed LL      \n",
    "    tail.next=head\n",
    "    head.next=None\n",
    "    \n",
    "    return smallhead\n",
    "    \n",
    "head = takeInput()\n",
    "printLL(head)\n",
    "rhead=reverse(head)\n",
    "printLL(rhead)"
   ]
  },
  {
   "cell_type": "markdown",
   "metadata": {},
   "source": [
    "### Reverse iteratively. O(N)"
   ]
  },
  {
   "cell_type": "code",
   "execution_count": 2,
   "metadata": {},
   "outputs": [
    {
     "name": "stdout",
     "output_type": "stream",
     "text": [
      "1 2 3 4 5 -1\n",
      "1->2->3->4->5->None\n",
      "5->4->3->2->1->None\n"
     ]
    }
   ],
   "source": [
    "class Node:\n",
    "    def __init__(self, data):\n",
    "        self.data = data\n",
    "        self.next = None\n",
    "\n",
    "def printLL(head):\n",
    "    while head is not None:\n",
    "        print(str(head.data) + \"->\", end = \"\")      \n",
    "        head = head.next\n",
    "    print(\"None\")\n",
    "    return\n",
    "        \n",
    "def takeInput():                                      \n",
    "    arr = list(map(int,input().split()))\n",
    "    head = None\n",
    "    tail = None\n",
    "    for ele in arr:\n",
    "        if ele == -1:\n",
    "            break\n",
    "        \n",
    "        newNode = Node(ele)\n",
    "\n",
    "        if head is None:\n",
    "            head = newNode\n",
    "            tail = newNode\n",
    "            \n",
    "        else:                            # tail will move one step ahead after each iteration\n",
    "            tail.next = newNode          # connecting the previous last node to the new last node\n",
    "            tail = newNode               # tail will start pointing to the new last node\n",
    "            \n",
    "    return head \n",
    "\n",
    "def reverse(head):\n",
    "    prev=None\n",
    "    curr=head\n",
    "    while curr is not None:\n",
    "        next=curr.next\n",
    "        curr.next=prev\n",
    "        prev=curr\n",
    "        curr=next\n",
    "    head=prev\n",
    "    return head\n",
    "\n",
    "    \n",
    "head = takeInput()\n",
    "printLL(head)\n",
    "rhead=reverse(head)\n",
    "printLL(rhead)"
   ]
  },
  {
   "cell_type": "code",
   "execution_count": null,
   "metadata": {},
   "outputs": [],
   "source": []
  }
 ],
 "metadata": {
  "kernelspec": {
   "display_name": "Python 3",
   "language": "python",
   "name": "python3"
  },
  "language_info": {
   "codemirror_mode": {
    "name": "ipython",
    "version": 3
   },
   "file_extension": ".py",
   "mimetype": "text/x-python",
   "name": "python",
   "nbconvert_exporter": "python",
   "pygments_lexer": "ipython3",
   "version": "3.8.6"
  }
 },
 "nbformat": 4,
 "nbformat_minor": 2
}
