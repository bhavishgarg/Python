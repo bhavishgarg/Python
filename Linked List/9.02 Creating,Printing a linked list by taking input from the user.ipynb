{
 "cells": [
  {
   "cell_type": "markdown",
   "metadata": {},
   "source": [
    "### Traversing each node to get to the last node  - O(N^2)  / How to make a LL"
   ]
  },
  {
   "cell_type": "code",
   "execution_count": 4,
   "metadata": {},
   "outputs": [
    {
     "name": "stdout",
     "output_type": "stream",
     "text": [
      "1 2 3 4 5 -1\n",
      "1\n",
      "2\n",
      "3\n",
      "4\n",
      "5\n"
     ]
    }
   ],
   "source": [
    "class Node:\n",
    "    \n",
    "    def __init__(self, data):\n",
    "        self.data = data\n",
    "        self.next = None\n",
    "\n",
    "def takeInput():\n",
    "    \n",
    "    arr = list(map(int,input().split()))    \n",
    "    head = None                             # no element is there,only -1\n",
    "    for currData in arr:\n",
    "        if currData == -1:\n",
    "            break                           # break out of the loop\n",
    "        \n",
    "        newNode = Node(currData)            # Creation of a node corr. to each currData\n",
    "        \n",
    "        # only once\n",
    "        if head is None:             # no node has been created till now.1st node is just created and pointing head to it\n",
    "            head = newNode           # In this way it will only point to the 1st node.Head won't be changed for rest nodes\n",
    "        else: \n",
    "            curr = head              # because we cannot change the original head\n",
    "            # to go to the last part of the linked list\n",
    "            while curr.next is not None:   \n",
    "                curr = curr.next           \n",
    "            curr.next = newNode      # make a new connection      \n",
    "    return head\n",
    "\n",
    "head = takeInput()\n",
    "\n",
    "\n",
    "#just do see if we got the linked list right or not\n",
    "curr = head\n",
    "while curr != None:\n",
    "    print(curr.data)\n",
    "    curr = curr.next"
   ]
  },
  {
   "cell_type": "markdown",
   "metadata": {},
   "source": [
    "## Printing Linked List"
   ]
  },
  {
   "cell_type": "markdown",
   "metadata": {},
   "source": [
    "Only printLL function has been added here!"
   ]
  },
  {
   "cell_type": "code",
   "execution_count": 5,
   "metadata": {},
   "outputs": [
    {
     "name": "stdout",
     "output_type": "stream",
     "text": [
      "1 2 3 4 5 -1\n",
      "1->2->3->4->5->None\n"
     ]
    }
   ],
   "source": [
    "class Node:\n",
    "    \n",
    "    def __init__(self, data):\n",
    "        self.data = data\n",
    "        self.next = None\n",
    "\n",
    "def printLL(head):                                   #this head is just a local variable to printLL\n",
    "    while head is not None:\n",
    "        print(str(head.data) + \"->\", end = \"\")       # We're also printing -> so we need to convert head.data to string\n",
    "        head = head.next\n",
    "    print(\"None\")\n",
    "    return\n",
    "\n",
    "def takeInput():\n",
    "    \n",
    "    arr = list(int(ele) for ele in input().split())    \n",
    "    head = None\n",
    "    for ele in arr:\n",
    "        if ele == -1:\n",
    "            break\n",
    "        \n",
    "        newNode = Node(ele)            # Creation of a node\n",
    "        \n",
    "        if head is None:\n",
    "            head = newNode\n",
    "        else: \n",
    "            curr = head\n",
    "            while curr.next is not None:\n",
    "                curr = curr.next\n",
    "            curr.next = newNode                \n",
    "    return head\n",
    "\n",
    "head = takeInput()        \n",
    "printLL(head)              #This head is different from the actual head of the LL"
   ]
  },
  {
   "cell_type": "markdown",
   "metadata": {},
   "source": [
    "#### For nth element we're iterating for n-1 elements. So, for just taking input (for traversing) it's taking O(N^2) time. The only statement which is taking time is traversing.\n",
    "#### Our previous method was taking time to find the last linked list node,hence"
   ]
  },
  {
   "cell_type": "markdown",
   "metadata": {},
   "source": [
    "### Maintaing a tail (reference to the last node) at the time of creation of a node:  O(N) time"
   ]
  },
  {
   "cell_type": "code",
   "execution_count": 6,
   "metadata": {},
   "outputs": [
    {
     "name": "stdout",
     "output_type": "stream",
     "text": [
      "1 2 3 5 -1\n",
      "1->2->3->5->None\n"
     ]
    }
   ],
   "source": [
    "# Maintaining a tail:\n",
    "class Node:\n",
    "    def __init__(self, data):\n",
    "        self.data = data\n",
    "        self.next = None\n",
    "\n",
    "def printLL(head):\n",
    "    while head is not None:\n",
    "        print(str(head.data) + \"->\", end = \"\")       # We're also printing -> so we need to convert head.data to string\n",
    "        head = head.next\n",
    "    print(\"None\")\n",
    "    return\n",
    "        \n",
    "def takeInput():                                      # Now, this logic takes very less time complared to O(N^2)\n",
    "    arr = list(map(int,input().split()))\n",
    "    head = None\n",
    "    tail = None\n",
    "    for ele in arr:\n",
    "        if ele == -1:\n",
    "            break\n",
    "        \n",
    "        newNode = Node(ele)\n",
    "\n",
    "        if head is None:\n",
    "            head = newNode\n",
    "            tail = newNode\n",
    "            \n",
    "        else:                            # tail will move one step ahead after each iteration\n",
    "            tail.next = newNode          # connecting the previous last node to the new last node\n",
    "            tail = newNode               # tail will start pointing to the new last node\n",
    "            \n",
    "    return head \n",
    "    \n",
    "head = takeInput()\n",
    "printLL(head)"
   ]
  },
  {
   "cell_type": "code",
   "execution_count": null,
   "metadata": {},
   "outputs": [],
   "source": []
  }
 ],
 "metadata": {
  "kernelspec": {
   "display_name": "Python 3",
   "language": "python",
   "name": "python3"
  },
  "language_info": {
   "codemirror_mode": {
    "name": "ipython",
    "version": 3
   },
   "file_extension": ".py",
   "mimetype": "text/x-python",
   "name": "python",
   "nbconvert_exporter": "python",
   "pygments_lexer": "ipython3",
   "version": "3.8.6"
  }
 },
 "nbformat": 4,
 "nbformat_minor": 2
}
