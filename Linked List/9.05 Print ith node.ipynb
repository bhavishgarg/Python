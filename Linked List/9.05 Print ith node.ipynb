{
 "cells": [
  {
   "cell_type": "code",
   "execution_count": 9,
   "metadata": {},
   "outputs": [
    {
     "name": "stdout",
     "output_type": "stream",
     "text": [
      "1 2 3 -1\n",
      "Index out of range\n"
     ]
    }
   ],
   "source": [
    "# Maintaining a tail:\n",
    "class Node:\n",
    "    def __init__(self, data):\n",
    "        self.data = data\n",
    "        self.next = None\n",
    "\n",
    "def ithnode(head,i):\n",
    "    count=0\n",
    "    curr=head                                     # just a local variable to this function\n",
    "    while count<i and curr!=None:                 \n",
    "        curr=curr.next\n",
    "        count=count+1\n",
    "    if curr!=None:\n",
    "        print(curr.data)\n",
    "    else: # no  such node exists\n",
    "        print(\"Index out of range\")\n",
    "    \n",
    "def takeInput():                                      # Now, this logic takes very less time complared to O(N^2)\n",
    "    arr = list(map(int,input().split()))\n",
    "    head = None\n",
    "    tail = None\n",
    "    for ele in arr:\n",
    "        if ele == -1:\n",
    "            break\n",
    "        \n",
    "        newNode = Node(ele)\n",
    "\n",
    "        if head is None:\n",
    "            head = newNode\n",
    "            tail = newNode\n",
    "            \n",
    "        else:                            # tail will move one step ahead after each iteration\n",
    "            tail.next = newNode          # connecting the previous last node to the new last node\n",
    "            tail = newNode               # tail will start pointing to the new last node\n",
    "            \n",
    "    return head \n",
    "    \n",
    "head = takeInput()\n",
    "ithnode(head,10)"
   ]
  },
  {
   "cell_type": "markdown",
   "metadata": {},
   "source": [
    "#### Other method by me:"
   ]
  },
  {
   "cell_type": "code",
   "execution_count": 10,
   "metadata": {},
   "outputs": [
    {
     "name": "stdout",
     "output_type": "stream",
     "text": [
      "1 2 3 -1\n",
      "5\n"
     ]
    }
   ],
   "source": [
    "class Node:\n",
    "    def __init__(self, data):\n",
    "        self.data = data\n",
    "        self.next = None\n",
    "\n",
    "\n",
    "def ithNode(head, i):\n",
    "    cnt = 0\n",
    "    while head is not None:                # go till the max no: of nodes we have\n",
    "        \n",
    "        if cnt == i:\n",
    "            return head\n",
    "        head = head.next\n",
    "        cnt = cnt + 1\n",
    "    \n",
    "\n",
    "def ll(arr):\n",
    "    if len(arr)==0:\n",
    "        return None\n",
    "    head = Node(arr[0])\n",
    "    last = head\n",
    "    for data in arr[1:]:\n",
    "        last.next = Node(data)\n",
    "        last = last.next\n",
    "    return head\n",
    "\n",
    "# Main\n",
    "# Read the link list elements including -1\n",
    "arr=list(int(i) for i in input().strip().split(' '))\n",
    "# Create a Linked list after removing -1 from list\n",
    "l = ll(arr[:-1])\n",
    "i=int(input())\n",
    "node = ithNode(l, i)\n",
    "if node:\n",
    "    print(node.data)\n"
   ]
  },
  {
   "cell_type": "code",
   "execution_count": null,
   "metadata": {},
   "outputs": [],
   "source": []
  }
 ],
 "metadata": {
  "kernelspec": {
   "display_name": "Python 3",
   "language": "python",
   "name": "python3"
  },
  "language_info": {
   "codemirror_mode": {
    "name": "ipython",
    "version": 3
   },
   "file_extension": ".py",
   "mimetype": "text/x-python",
   "name": "python",
   "nbconvert_exporter": "python",
   "pygments_lexer": "ipython3",
   "version": "3.8.6"
  }
 },
 "nbformat": 4,
 "nbformat_minor": 2
}
