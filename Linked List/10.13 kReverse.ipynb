{
 "cells": [
  {
   "cell_type": "markdown",
   "metadata": {},
   "source": [
    "#### Reverse a Linked List in groups of given size"
   ]
  },
  {
   "cell_type": "code",
   "execution_count": 10,
   "metadata": {},
   "outputs": [
    {
     "name": "stdout",
     "output_type": "stream",
     "text": [
      "Given linked list\n",
      "1 2 3 4 5 6 7 8 9 \n",
      "Reversed Linked list\n",
      "3 2 1 6 5 4 9 8 7 "
     ]
    }
   ],
   "source": [
    "# Python program to reverse a linked list in group of given size\n",
    "# Node class\n",
    "class Node:\n",
    "    # Constructor to initialize the node object\n",
    "    def __init__(self, data):\n",
    "        self.data = data\n",
    "        self.next = None\n",
    "        \n",
    "class LinkedList: \n",
    "    # Function to initialize head\n",
    "    def __init__(self):\n",
    "        self.head = None\n",
    " \n",
    "    def reverse(self, head, k):     \n",
    "        if head == None:\n",
    "          return None\n",
    "        current = head\n",
    "        next = None\n",
    "        prev = None\n",
    "        count = 0\n",
    " \n",
    "        # Reverse first k nodes of the linked list\n",
    "        while(current is not None and count < k):\n",
    "            next = current.next\n",
    "            current.next = prev\n",
    "            prev = current\n",
    "            current = next\n",
    "            count += 1\n",
    " \n",
    "        # next is now a pointer to (k+1)th node recursively call for the list starting from current.\n",
    "        # And make rest of the list as next of first node\n",
    "        if next is not None:\n",
    "            head.next = self.reverse(next, k)\n",
    " \n",
    "        # prev is new head of the input list\n",
    "        return prev\n",
    " \n",
    "    # Function to insert a new node at the beginning\n",
    "    def push(self, new_data):\n",
    "        new_node = Node(new_data)\n",
    "        new_node.next = self.head\n",
    "        self.head = new_node\n",
    " \n",
    "    # Utility function to print the linked LinkedList\n",
    "    def printList(self):\n",
    "        temp = self.head\n",
    "        while(temp):\n",
    "            print (temp.data,end=\" \")\n",
    "            temp = temp.next\n",
    " \n",
    " \n",
    "# Driver program\n",
    "llist = LinkedList()\n",
    "llist.push(9)\n",
    "llist.push(8)\n",
    "llist.push(7)\n",
    "llist.push(6)\n",
    "llist.push(5)\n",
    "llist.push(4)\n",
    "llist.push(3)\n",
    "llist.push(2)\n",
    "llist.push(1)\n",
    " \n",
    "print (\"Given linked list\")\n",
    "llist.printList()\n",
    "llist.head = llist.reverse(llist.head, 3)\n",
    " \n",
    "print (\"\\nReversed Linked list\")\n",
    "llist.printList()"
   ]
  },
  {
   "cell_type": "code",
   "execution_count": null,
   "metadata": {},
   "outputs": [],
   "source": []
  }
 ],
 "metadata": {
  "kernelspec": {
   "display_name": "Python 3",
   "language": "python",
   "name": "python3"
  },
  "language_info": {
   "codemirror_mode": {
    "name": "ipython",
    "version": 3
   },
   "file_extension": ".py",
   "mimetype": "text/x-python",
   "name": "python",
   "nbconvert_exporter": "python",
   "pygments_lexer": "ipython3",
   "version": "3.8.6"
  }
 },
 "nbformat": 4,
 "nbformat_minor": 2
}
