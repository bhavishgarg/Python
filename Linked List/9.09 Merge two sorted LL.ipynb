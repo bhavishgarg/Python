{
 "cells": [
  {
   "cell_type": "markdown",
   "metadata": {},
   "source": [
    "#### JUST THE FUNCTION\n",
    "\n",
    "To merge two sorted linked lists, we can proceed by linearly traversing the lists and adding the node with the smaller value to the result and recursing for the remaining lists."
   ]
  },
  {
   "cell_type": "code",
   "execution_count": 2,
   "metadata": {},
   "outputs": [],
   "source": [
    "def mergeLL(head1, head2): \n",
    "    \n",
    "    if head1 is None:  # if fisrt LL is empty\n",
    "        return head2\n",
    "    if head2 is None:  # if second LL is empty\n",
    "        return head1\n",
    "    # get the correct first node and increment the pointer\n",
    "    if head1.data < head2.data:\n",
    "        head = head1\n",
    "        head1 = head1.next\n",
    "    else:\n",
    "        head = head2\n",
    "        head2 = head2.next\n",
    "    current = head\n",
    "    \n",
    "    # while both of the lists have data\n",
    "    while head1 and head2:\n",
    "        # merge the lower value node\n",
    "        if head1.data < head2.data:\n",
    "            current.next = head1\n",
    "            head1 = head1.next\n",
    "        else:\n",
    "            current.next = head2\n",
    "            head2 = head2.next\n",
    "        # and update the pointer\n",
    "        current = current.next         # or write it in both the 'if' and 'else' block\n",
    "        \n",
    "    # if there are nodes remaining in one of the lists,\n",
    "    # append it to the result\n",
    "    if head1:\n",
    "        current.next = head1\n",
    "    elif head2:\n",
    "        current.next = head2\n",
    "    return head\n"
   ]
  },
  {
   "cell_type": "markdown",
   "metadata": {},
   "source": [
    "#### Time Complexity : O(N+M) where N,M are the sizes of the two linked lists"
   ]
  },
  {
   "cell_type": "code",
   "execution_count": 1,
   "metadata": {},
   "outputs": [
    {
     "name": "stdout",
     "output_type": "stream",
     "text": [
      "1 3 5 -1\n",
      "2 4 -1\n",
      "1->2->3->4->5->None\n"
     ]
    }
   ],
   "source": [
    "# Maintaining a tail:\n",
    "class Node:\n",
    "    def __init__(self, data):\n",
    "        self.data = data\n",
    "        self.next = None\n",
    "\n",
    "def printLL(head):\n",
    "    while head is not None:\n",
    "        print(str(head.data) + \"->\", end = \"\")       # We're also printing -> so we need to convert head.data to string\n",
    "        head = head.next\n",
    "    print(\"None\")\n",
    "    return\n",
    "        \n",
    "def takeInput():                                      # Now, this logic takes very less time complared to O(N^2)\n",
    "    arr = list(map(int,input().split()))\n",
    "    head = None\n",
    "    tail = None\n",
    "    for ele in arr:\n",
    "        if ele == -1:\n",
    "            break\n",
    "        \n",
    "        newNode = Node(ele)\n",
    "\n",
    "        if head is None:\n",
    "            head = newNode\n",
    "            tail = newNode\n",
    "            \n",
    "        else:                            # tail will move one step ahead after each iteration\n",
    "            tail.next = newNode          # connecting the previous last node to the new last node\n",
    "            tail = newNode               # tail will start pointing to the new last node\n",
    "            \n",
    "    return head \n",
    "\n",
    "def mergeLL(head1, head2):\n",
    "    \n",
    "    if head1 is None:\n",
    "        return head2\n",
    "    if head2 is None:\n",
    "        return head1\n",
    "\n",
    "    # get the correct first node and increment the pointer\n",
    "    if head1.data < head2.data:\n",
    "        head = head1\n",
    "        head1 = head1.next\n",
    "    else:\n",
    "        head = head2\n",
    "        head2 = head2.next\n",
    "    current = head\n",
    "    \n",
    "    # while both of the lists have data\n",
    "    while head1 and head2:\n",
    "        # merge the lower value node\n",
    "        if head1.data < head2.data:\n",
    "            current.next = head1\n",
    "            head1 = head1.next\n",
    "        else:\n",
    "            current.next = head2\n",
    "            head2 = head2.next\n",
    "        # and update the pointer\n",
    "        current = current.next\n",
    "        \n",
    "    # if there are nodes remaining in one of the lists,\n",
    "    # append it to the result\n",
    "    if head1:\n",
    "        current.next = head1\n",
    "    elif head2:\n",
    "        current.next = head2\n",
    "    return head\n",
    "\n",
    "\n",
    "head1 = takeInput()\n",
    "head2=takeInput()\n",
    "head_final=mergeLL(head1,head2)\n",
    "printLL(head_final)"
   ]
  },
  {
   "cell_type": "code",
   "execution_count": null,
   "metadata": {},
   "outputs": [],
   "source": []
  }
 ],
 "metadata": {
  "kernelspec": {
   "display_name": "Python 3",
   "language": "python",
   "name": "python3"
  },
  "language_info": {
   "codemirror_mode": {
    "name": "ipython",
    "version": 3
   },
   "file_extension": ".py",
   "mimetype": "text/x-python",
   "name": "python",
   "nbconvert_exporter": "python",
   "pygments_lexer": "ipython3",
   "version": "3.8.6"
  }
 },
 "nbformat": 4,
 "nbformat_minor": 4
}
