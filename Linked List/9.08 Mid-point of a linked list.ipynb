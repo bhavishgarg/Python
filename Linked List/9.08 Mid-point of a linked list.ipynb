{
 "cells": [
  {
   "cell_type": "markdown",
   "metadata": {},
   "source": [
    "### Two pointers approach- Slow and Fast\n",
    "#### Maintain two pointers fast and slow where fast goes (2 x speed) of slow. When fast will reach the end then the slow will reach the midpoint."
   ]
  },
  {
   "cell_type": "markdown",
   "metadata": {},
   "source": [
    " Midpoint = (length - 1)/2"
   ]
  },
  {
   "cell_type": "code",
   "execution_count": 4,
   "metadata": {},
   "outputs": [
    {
     "name": "stdout",
     "output_type": "stream",
     "text": [
      "1 2 3 4 5 -1\n",
      "1->2->3->4->5->None\n",
      "3\n",
      "1 2 3 4 5 6 -1\n",
      "1->2->3->4->5->6->None\n",
      "3\n"
     ]
    }
   ],
   "source": [
    "class Node:\n",
    "    def __init__(self, data):\n",
    "        self.data = data\n",
    "        self.next = None\n",
    "\n",
    "def printLL(head):\n",
    "    while head is not None:\n",
    "        print(str(head.data) + \"->\", end = \"\")      \n",
    "        head = head.next\n",
    "    print(\"None\")\n",
    "    return\n",
    "        \n",
    "def takeInput():                                      \n",
    "    arr = list(map(int,input().split()))\n",
    "    head = None\n",
    "    tail = None\n",
    "    for ele in arr:\n",
    "        if ele == -1:\n",
    "            break\n",
    "        \n",
    "        newNode = Node(ele)\n",
    "\n",
    "        if head is None:\n",
    "            head = newNode\n",
    "            tail = newNode\n",
    "            \n",
    "        else:                            \n",
    "            tail.next = newNode          \n",
    "            tail = newNode              \n",
    "            \n",
    "    return head \n",
    "\n",
    "def mid_point(head):\n",
    "    slow=head\n",
    "    fast=head  # Note the AND here\n",
    "    while fast.next!=None and fast.next.next!=None:     # first condition for odd no: of elements,second cond. for even no:\n",
    "        slow=slow.next                                  # Slow will increase at speed x\n",
    "        fast=fast.next.next                             # Fast will increase at speed 2x \n",
    "    return slow.data\n",
    "\n",
    "    \n",
    "head = takeInput()\n",
    "printLL(head)\n",
    "mid=mid_point(head)\n",
    "print(mid)\n",
    "head = takeInput()\n",
    "printLL(head)\n",
    "mid=mid_point(head)\n",
    "print(mid)"
   ]
  },
  {
   "cell_type": "code",
   "execution_count": null,
   "metadata": {},
   "outputs": [],
   "source": []
  }
 ],
 "metadata": {
  "kernelspec": {
   "display_name": "Python 3",
   "language": "python",
   "name": "python3"
  },
  "language_info": {
   "codemirror_mode": {
    "name": "ipython",
    "version": 3
   },
   "file_extension": ".py",
   "mimetype": "text/x-python",
   "name": "python",
   "nbconvert_exporter": "python",
   "pygments_lexer": "ipython3",
   "version": "3.8.6"
  }
 },
 "nbformat": 4,
 "nbformat_minor": 4
}
