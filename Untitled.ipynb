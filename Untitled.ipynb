{
 "cells": [
  {
   "cell_type": "code",
   "execution_count": 6,
   "metadata": {},
   "outputs": [
    {
     "name": "stdout",
     "output_type": "stream",
     "text": [
      "[-1, 2, -3, 4, 5, 6, -7, 8, 9]\n"
     ]
    }
   ],
   "source": [
    "def rearrange(arr, n ) :\n",
    "    left=0\n",
    "    right=len(arr)-1\n",
    "    while left<right:\n",
    "        if arr[left]>0 and arr[right]<0:\n",
    "            arr[left],arr[right]=arr[right],arr[left]\n",
    "        left=left+1\n",
    "        right=right-1\n",
    "\n",
    "    return arr\n",
    " \n",
    "# Driver code\n",
    "arr = [-1, 2, -3, 4, 5, 6, -7, 8, 9]\n",
    "n = len(arr)\n",
    "ar=rearrange(arr, n)\n",
    "print(ar)"
   ]
  },
  {
   "cell_type": "code",
   "execution_count": 7,
   "metadata": {},
   "outputs": [
    {
     "name": "stdout",
     "output_type": "stream",
     "text": [
      "[-1, -7, -3, 4, 5, 6, 2, 8, 9]\n"
     ]
    }
   ],
   "source": [
    "def rearrange(arr, n ) :\n",
    "    si=0\n",
    "    ei=len(arr)-1\n",
    "    while si<ei:\n",
    "        if arr[si]<0:\n",
    "            si=si+1\n",
    "        elif arr[ei]>0:\n",
    "            ei=ei-1\n",
    "        else:\n",
    "            arr[si],arr[ei]=arr[ei],arr[si]\n",
    "            si=si+1\n",
    "            ei=ei-1\n",
    "    return arr\n",
    " \n",
    "# Driver code\n",
    "arr = [-1, 2, -3, 4, 5, 6, -7, 8, 9]\n",
    "n = len(arr)\n",
    "ar=rearrange(arr, n)\n",
    "print(ar)"
   ]
  },
  {
   "cell_type": "markdown",
   "metadata": {},
   "source": [
    "#### Days - year,month,days"
   ]
  },
  {
   "cell_type": "code",
   "execution_count": 10,
   "metadata": {},
   "outputs": [
    {
     "name": "stdout",
     "output_type": "stream",
     "text": [
      "500\n",
      "years= 1\n",
      "months= 4\n",
      "days= 15\n"
     ]
    }
   ],
   "source": [
    "n=int(input())\n",
    "y,m,d=0,0,0\n",
    "if n>365:      \n",
    "    y=n//365\n",
    "    left=n%365\n",
    "    if left>29:\n",
    "        m=left//30\n",
    "        d=left%30\n",
    "elif n>28:\n",
    "    m=n//30\n",
    "    d=n%30\n",
    "else:\n",
    "    d=n\n",
    "print(\"years=\",y)\n",
    "print(\"months=\",m)\n",
    "print(\"days=\",d)"
   ]
  },
  {
   "cell_type": "markdown",
   "metadata": {},
   "source": [
    "#### Max of 3 numbers"
   ]
  },
  {
   "cell_type": "code",
   "execution_count": 14,
   "metadata": {},
   "outputs": [
    {
     "name": "stdout",
     "output_type": "stream",
     "text": [
      "2\n",
      "4\n",
      "6\n",
      "6\n"
     ]
    }
   ],
   "source": [
    "a=int(input())\n",
    "b=int(input())\n",
    "c=int(input())\n",
    "if a>b and a>c:\n",
    "    print(a)\n",
    "elif b>a and b>c:\n",
    "    print(b)\n",
    "else:\n",
    "    print(c)"
   ]
  },
  {
   "cell_type": "code",
   "execution_count": 15,
   "metadata": {},
   "outputs": [
    {
     "name": "stdout",
     "output_type": "stream",
     "text": [
      "2\n",
      "4\n",
      "6\n",
      "6\n"
     ]
    }
   ],
   "source": [
    "def maximum(a, b, c):  # Function Definition\n",
    "    if (a >= b) and (a >= c):\n",
    "        largest = a\n",
    "    elif (b >= c):\n",
    "        largest = b\n",
    "    else:\n",
    "        largest = c     \n",
    "    return largest\n",
    "\n",
    "a = int(input())\n",
    "b = int(input())\n",
    "c = int(input())\n",
    "print(maximum(a, b, c))  # Function Call"
   ]
  },
  {
   "cell_type": "code",
   "execution_count": 16,
   "metadata": {},
   "outputs": [
    {
     "name": "stdout",
     "output_type": "stream",
     "text": [
      "2\n",
      "4\n",
      "6\n",
      "6 is the greatest\n"
     ]
    }
   ],
   "source": [
    "num1 = int(input())\n",
    "num2 = int(input())\n",
    "num3 = int(input())\n",
    "print(max(num1,num2,num3),\"is the greatest\")  # Built-in function \"max\""
   ]
  },
  {
   "cell_type": "markdown",
   "metadata": {},
   "source": [
    "#### Reverse of a number"
   ]
  },
  {
   "cell_type": "code",
   "execution_count": 17,
   "metadata": {},
   "outputs": [
    {
     "name": "stdout",
     "output_type": "stream",
     "text": [
      "53089\n",
      "98035\n"
     ]
    }
   ],
   "source": [
    "def reverse(n):\n",
    "    rev=0\n",
    "    while n>0:\n",
    "        rem=n%10\n",
    "        rev=(rev*10)+rem\n",
    "        n=n//10\n",
    "    return rev\n",
    "\n",
    "n=int(input())\n",
    "ans=reverse(n)\n",
    "print(ans)"
   ]
  },
  {
   "cell_type": "markdown",
   "metadata": {},
   "source": [
    "#### Palindrome"
   ]
  },
  {
   "cell_type": "code",
   "execution_count": 19,
   "metadata": {},
   "outputs": [
    {
     "name": "stdout",
     "output_type": "stream",
     "text": [
      "58095\n",
      "False\n"
     ]
    }
   ],
   "source": [
    "def rev(n):\n",
    "    rev=0\n",
    "    while n>0:\n",
    "        rem=n%10\n",
    "        rev=(rev*10)+rem\n",
    "        n=n//10\n",
    "    return rev\n",
    "   \n",
    "\n",
    "def palin(n):\n",
    "    if rev(n)==n:\n",
    "        return True\n",
    "    else:\n",
    "        return False\n",
    "\n",
    "\n",
    "n=int(input())\n",
    "ans=palin(n)\n",
    "print(ans)"
   ]
  },
  {
   "cell_type": "markdown",
   "metadata": {},
   "source": [
    "#### Factorial"
   ]
  },
  {
   "cell_type": "code",
   "execution_count": 23,
   "metadata": {},
   "outputs": [
    {
     "name": "stdout",
     "output_type": "stream",
     "text": [
      "5\n",
      "120\n"
     ]
    }
   ],
   "source": [
    "def fact(n):\n",
    "    if n==1:\n",
    "        return 1\n",
    "    ans=n*fact(n-1)\n",
    "    return ans\n",
    "\n",
    "n=int(input())\n",
    "ans=fact(n)\n",
    "print(ans)"
   ]
  },
  {
   "cell_type": "markdown",
   "metadata": {},
   "source": [
    "#### Factorial Iteratively"
   ]
  },
  {
   "cell_type": "code",
   "execution_count": 30,
   "metadata": {},
   "outputs": [
    {
     "name": "stdout",
     "output_type": "stream",
     "text": [
      "4\n",
      "24\n"
     ]
    }
   ],
   "source": [
    "n=int(input())\n",
    "if n<0:\n",
    "    print(0)\n",
    "fact=1\n",
    "while n!=0:\n",
    "    fact=fact*n\n",
    "    n=n-1\n",
    "print(fact)"
   ]
  },
  {
   "cell_type": "code",
   "execution_count": 36,
   "metadata": {},
   "outputs": [
    {
     "name": "stdout",
     "output_type": "stream",
     "text": [
      "1634\n",
      "No\n"
     ]
    }
   ],
   "source": [
    "n=int(input())\n",
    "st=str(n)\n",
    "\n",
    "sum=0\n",
    "for ele in st:\n",
    "    num=int(ele)\n",
    "    sum+=num*num*num\n",
    "if sum==n:\n",
    "    print(\"Yes\")\n",
    "else:\n",
    "    print(\"No\")"
   ]
  },
  {
   "cell_type": "markdown",
   "metadata": {},
   "source": [
    "#### Armstrong number or not\n",
    "\n",
    "Input : 153\n",
    "\n",
    "Output : Yes\n",
    "\n",
    "153 is an Armstrong number.\n",
    "\n",
    "1*1*1 + 5*5*5 + 3*3*3 = 153"
   ]
  },
  {
   "cell_type": "code",
   "execution_count": 43,
   "metadata": {},
   "outputs": [
    {
     "name": "stdout",
     "output_type": "stream",
     "text": [
      "1634\n",
      "True\n"
     ]
    }
   ],
   "source": [
    "# Function to calculate x raised to the power y\n",
    "def power(x, y):\n",
    "\t\n",
    "\tif y == 0:\n",
    "\t\treturn 1\n",
    "\tif y % 2 == 0:\n",
    "\t\treturn power(x, y // 2) * power(x, y // 2)\n",
    "\t\t\n",
    "\treturn x * power(x, y // 2) * power(x, y // 2)\n",
    "\n",
    "# Function to calculate order of the number\n",
    "def order(x):\n",
    "\n",
    "\t# Variable to store order of the number\n",
    "\tn = 0\n",
    "\twhile (x != 0):\n",
    "\t\tn = n + 1\n",
    "\t\tx = x // 10\n",
    "\t\t\n",
    "\treturn n\n",
    "\n",
    "# Function to check whether the given number is Armstrong number or not\n",
    "def isArmstrong(x):\n",
    "\t\n",
    "\tn = order(x)\n",
    "\ttemp = x\n",
    "\tsum1 = 0\n",
    "\t\n",
    "\twhile (temp != 0):\n",
    "\t\ta = temp % 10\n",
    "\t\tsum1 = sum1 + power(a, n)\n",
    "\t\ttemp = temp // 10\n",
    "\n",
    "\t# If condition satisfies\n",
    "\treturn (sum1 == x)\n",
    "\n",
    "# Driver code\n",
    "x = int(input())\n",
    "print(isArmstrong(x))\n"
   ]
  },
  {
   "cell_type": "markdown",
   "metadata": {},
   "source": [
    "#### Twisted Prime Number"
   ]
  },
  {
   "cell_type": "markdown",
   "metadata": {},
   "source": [
    "A number is said to be twisted prime if it is a prime number and reverse of the number is also a prime number.\n",
    "\n",
    "Examples: \n",
    "    \n",
    "Input : 97\n",
    "    \n",
    "Output : Twisted Prime Number\n",
    "    \n",
    "Explanation: 97 is a prime number and its reverse 79 is also a primenumber."
   ]
  },
  {
   "cell_type": "code",
   "execution_count": 46,
   "metadata": {},
   "outputs": [
    {
     "name": "stdout",
     "output_type": "stream",
     "text": [
      "97\n",
      "Twisted prime number\n"
     ]
    }
   ],
   "source": [
    "n=int(input())\n",
    "m=str(n)[::-1]\n",
    "m=int(m)\n",
    "k=0\n",
    "for i in range(2,n):\n",
    "    if(n%i==0):          # n is not a prime number\n",
    "        break\n",
    "else: # not when for loop has been finished from a break statement       \n",
    "    k+=1\n",
    "for j in range(2,m):\n",
    "    if(m%j==0):         # m is not a prime number\n",
    "        break\n",
    "else:\n",
    "    k+=1\n",
    "if(k==2):   # n and m n both are prime numbers\n",
    "    print(\"Twisted prime number\")\n",
    "else:\n",
    "    print(\"Not a Twisted prime number\")"
   ]
  },
  {
   "cell_type": "code",
   "execution_count": null,
   "metadata": {},
   "outputs": [],
   "source": []
  }
 ],
 "metadata": {
  "kernelspec": {
   "display_name": "Python 3",
   "language": "python",
   "name": "python3"
  },
  "language_info": {
   "codemirror_mode": {
    "name": "ipython",
    "version": 3
   },
   "file_extension": ".py",
   "mimetype": "text/x-python",
   "name": "python",
   "nbconvert_exporter": "python",
   "pygments_lexer": "ipython3",
   "version": "3.8.6"
  }
 },
 "nbformat": 4,
 "nbformat_minor": 4
}
